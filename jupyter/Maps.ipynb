{
 "cells": [
  {
   "cell_type": "markdown",
   "metadata": {},
   "source": [
    "# Maps and Tuples"
   ]
  },
  {
   "cell_type": "markdown",
   "metadata": {},
   "source": [
    "## 4.1 Constructing a Map\n"
   ]
  },
  {
   "cell_type": "markdown",
   "metadata": {},
   "source": [
    "Maps are immutable objects and are exactly as dictionary in python"
   ]
  },
  {
   "cell_type": "code",
   "execution_count": 6,
   "metadata": {},
   "outputs": [
    {
     "data": {
      "text/plain": [
       "\u001b[36mscores\u001b[39m: \u001b[32mMap\u001b[39m[\u001b[32mString\u001b[39m, \u001b[32mInt\u001b[39m] = \u001b[33mMap\u001b[39m(\u001b[32m\"Alice\"\u001b[39m -> \u001b[32m10\u001b[39m, \u001b[32m\"Bob\"\u001b[39m -> \u001b[32m3\u001b[39m, \u001b[32m\"Cindy\"\u001b[39m -> \u001b[32m8\u001b[39m)"
      ]
     },
     "execution_count": 6,
     "metadata": {},
     "output_type": "execute_result"
    }
   ],
   "source": [
    "val scores = Map(\"Alice\" -> 10, \"Bob\" -> 3, \"Cindy\" -> 8)"
   ]
  },
  {
   "cell_type": "markdown",
   "metadata": {},
   "source": [
    "This constructs an immutable Map[String, Int] whose contents can’ t be changed.\n",
    "If you want a mutable map, use"
   ]
  },
  {
   "cell_type": "code",
   "execution_count": 10,
   "metadata": {},
   "outputs": [
    {
     "data": {
      "text/plain": [
       "\u001b[36mscores\u001b[39m: \u001b[32mcollection\u001b[39m.\u001b[32mmutable\u001b[39m.\u001b[32mMap\u001b[39m[\u001b[32mString\u001b[39m, \u001b[32mInt\u001b[39m] = \u001b[33mMap\u001b[39m(\u001b[32m\"Bob\"\u001b[39m -> \u001b[32m3\u001b[39m, \u001b[32m\"Alice\"\u001b[39m -> \u001b[32m10\u001b[39m, \u001b[32m\"Cindy\"\u001b[39m -> \u001b[32m8\u001b[39m)"
      ]
     },
     "execution_count": 10,
     "metadata": {},
     "output_type": "execute_result"
    }
   ],
   "source": [
    "val scores = scala.collection.mutable.Map(\"Alice\" -> 10, \"Bob\" -> 3, \"Cindy\" -> 8)"
   ]
  },
  {
   "cell_type": "code",
   "execution_count": 8,
   "metadata": {},
   "outputs": [
    {
     "data": {
      "text/plain": [
       "\u001b[36mscores\u001b[39m: \u001b[32mcollection\u001b[39m.\u001b[32mmutable\u001b[39m.\u001b[32mMap\u001b[39m[\u001b[32mString\u001b[39m, \u001b[32mInt\u001b[39m] = \u001b[33mMap\u001b[39m()"
      ]
     },
     "execution_count": 8,
     "metadata": {},
     "output_type": "execute_result"
    }
   ],
   "source": [
    "val scores = scala.collection.mutable.Map[String, Int]()"
   ]
  },
  {
   "cell_type": "markdown",
   "metadata": {},
   "source": [
    "## 4.2 Accessing Map Values"
   ]
  },
  {
   "cell_type": "code",
   "execution_count": 11,
   "metadata": {},
   "outputs": [
    {
     "data": {
      "text/plain": [
       "\u001b[36mbobsScore\u001b[39m: \u001b[32mInt\u001b[39m = \u001b[32m3\u001b[39m"
      ]
     },
     "execution_count": 11,
     "metadata": {},
     "output_type": "execute_result"
    }
   ],
   "source": [
    "val bobsScore = scores(\"Bob\")"
   ]
  },
  {
   "cell_type": "markdown",
   "metadata": {},
   "source": [
    "If the map doesn’ t contain a value for the requested key, an exception is thrown.\n",
    "To check whether there is a key with the given value, call the contains method:"
   ]
  },
  {
   "cell_type": "code",
   "execution_count": 12,
   "metadata": {},
   "outputs": [
    {
     "data": {
      "text/plain": [
       "\u001b[36mbobsScore\u001b[39m: \u001b[32mInt\u001b[39m = \u001b[32m3\u001b[39m"
      ]
     },
     "execution_count": 12,
     "metadata": {},
     "output_type": "execute_result"
    }
   ],
   "source": [
    "val bobsScore = if (scores.contains(\"Bob\")) scores(\"Bob\") else 0"
   ]
  },
  {
   "cell_type": "markdown",
   "metadata": {},
   "source": [
    "or"
   ]
  },
  {
   "cell_type": "code",
   "execution_count": 13,
   "metadata": {},
   "outputs": [
    {
     "data": {
      "text/plain": [
       "\u001b[36mbobsScore\u001b[39m: \u001b[32mInt\u001b[39m = \u001b[32m3\u001b[39m"
      ]
     },
     "execution_count": 13,
     "metadata": {},
     "output_type": "execute_result"
    }
   ],
   "source": [
    "val bobsScore = scores.getOrElse(\"Bob\", 0)\n",
    " // If the map contains the key \"Bob\", return the value; otherwise, return 0 ."
   ]
  },
  {
   "cell_type": "markdown",
   "metadata": {},
   "source": [
    "## 4.3 Updating Map Values"
   ]
  },
  {
   "cell_type": "markdown",
   "metadata": {},
   "source": [
    "In a mutable map, you can update a map value, or add a new one, with a () to\n",
    "the left of an = sign:"
   ]
  },
  {
   "cell_type": "code",
   "execution_count": 15,
   "metadata": {},
   "outputs": [],
   "source": [
    "scores(\"Bob\") = 10 \n",
    " // Updates the existing value for the key \"Bob\" (assuming scores is mutable)\n",
    "scores(\"Fred\") = 7 \n",
    " // Adds a new key/value pair to scores (assuming it is mutable)"
   ]
  },
  {
   "cell_type": "markdown",
   "metadata": {},
   "source": [
    "Alternatively, you can use the += operation to add multiple associations:"
   ]
  },
  {
   "cell_type": "code",
   "execution_count": 16,
   "metadata": {},
   "outputs": [
    {
     "data": {
      "text/plain": [
       "\u001b[36mres15\u001b[39m: \u001b[32mcollection\u001b[39m.\u001b[32mmutable\u001b[39m.\u001b[32mMap\u001b[39m[\u001b[32mString\u001b[39m, \u001b[32mInt\u001b[39m] = \u001b[33mMap\u001b[39m(\u001b[32m\"Bob\"\u001b[39m -> \u001b[32m10\u001b[39m, \u001b[32m\"Fred\"\u001b[39m -> \u001b[32m7\u001b[39m, \u001b[32m\"Alice\"\u001b[39m -> \u001b[32m10\u001b[39m, \u001b[32m\"Cindy\"\u001b[39m -> \u001b[32m8\u001b[39m)"
      ]
     },
     "execution_count": 16,
     "metadata": {},
     "output_type": "execute_result"
    }
   ],
   "source": [
    "scores += (\"Bob\" -> 10, \"Fred\" -> 7) "
   ]
  },
  {
   "cell_type": "markdown",
   "metadata": {},
   "source": [
    "To remove a key and its associated value, use the -= operator:"
   ]
  },
  {
   "cell_type": "code",
   "execution_count": 17,
   "metadata": {},
   "outputs": [
    {
     "data": {
      "text/plain": [
       "\u001b[36mres16\u001b[39m: \u001b[32mcollection\u001b[39m.\u001b[32mmutable\u001b[39m.\u001b[32mMap\u001b[39m[\u001b[32mString\u001b[39m, \u001b[32mInt\u001b[39m] = \u001b[33mMap\u001b[39m(\u001b[32m\"Bob\"\u001b[39m -> \u001b[32m10\u001b[39m, \u001b[32m\"Fred\"\u001b[39m -> \u001b[32m7\u001b[39m, \u001b[32m\"Cindy\"\u001b[39m -> \u001b[32m8\u001b[39m)"
      ]
     },
     "execution_count": 17,
     "metadata": {},
     "output_type": "execute_result"
    }
   ],
   "source": [
    "scores -= \"Alice\""
   ]
  },
  {
   "cell_type": "code",
   "execution_count": 23,
   "metadata": {},
   "outputs": [
    {
     "data": {
      "text/plain": [
       "\u001b[36mimmute_scores\u001b[39m: \u001b[32mMap\u001b[39m[\u001b[32mString\u001b[39m, \u001b[32mInt\u001b[39m] = \u001b[33mMap\u001b[39m(\u001b[32m\"Hamed\"\u001b[39m -> \u001b[32m5\u001b[39m, \u001b[32m\"Alireza\"\u001b[39m -> \u001b[32m20\u001b[39m)"
      ]
     },
     "execution_count": 23,
     "metadata": {},
     "output_type": "execute_result"
    }
   ],
   "source": [
    "val immute_scores = Map(\"Hamed\" -> 5, \"Alireza\" -> 20)"
   ]
  },
  {
   "cell_type": "markdown",
   "metadata": {},
   "source": [
    "You can’ t update an immutable map, but you can do something that’ s just as\n",
    "useful— obtain a new map that has the desired update:"
   ]
  },
  {
   "cell_type": "code",
   "execution_count": 24,
   "metadata": {},
   "outputs": [
    {
     "data": {
      "text/plain": [
       "\u001b[36mnewScores\u001b[39m: \u001b[32mMap\u001b[39m[\u001b[32mString\u001b[39m, \u001b[32mInt\u001b[39m] = \u001b[33mMap\u001b[39m(\u001b[32m\"Hamed\"\u001b[39m -> \u001b[32m25\u001b[39m, \u001b[32m\"Alireza\"\u001b[39m -> \u001b[32m20\u001b[39m, \u001b[32m\"Bob\"\u001b[39m -> \u001b[32m15\u001b[39m)"
      ]
     },
     "execution_count": 24,
     "metadata": {},
     "output_type": "execute_result"
    }
   ],
   "source": [
    "val newScores = immute_scores + (\"Bob\" -> 15, \"Hamed\" -> 25) // New map with update"
   ]
  },
  {
   "cell_type": "markdown",
   "metadata": {},
   "source": [
    "The newScores map contains the same associations as scores, except that \"Bob\" has\n",
    "been updated and \"Fred\" added.\n"
   ]
  },
  {
   "cell_type": "markdown",
   "metadata": {},
   "source": [
    "Instead of saving the result as a new value, you can update a var:"
   ]
  },
  {
   "cell_type": "code",
   "execution_count": 25,
   "metadata": {},
   "outputs": [
    {
     "data": {
      "text/plain": [
       "\u001b[36mimmute_scores\u001b[39m: \u001b[32mMap\u001b[39m[\u001b[32mString\u001b[39m, \u001b[32mInt\u001b[39m] = \u001b[33mMap\u001b[39m(\u001b[32m\"Hamed\"\u001b[39m -> \u001b[32m5\u001b[39m, \u001b[32m\"Alireza\"\u001b[39m -> \u001b[32m20\u001b[39m)"
      ]
     },
     "execution_count": 25,
     "metadata": {},
     "output_type": "execute_result"
    }
   ],
   "source": [
    "var immute_scores = Map(\"Hamed\" -> 5, \"Alireza\" -> 20)"
   ]
  },
  {
   "cell_type": "code",
   "execution_count": 32,
   "metadata": {},
   "outputs": [
    {
     "data": {
      "text/plain": [
       "\u001b[36mres31_1\u001b[39m: \u001b[32mMap\u001b[39m[\u001b[32mString\u001b[39m, \u001b[32mInt\u001b[39m] = \u001b[33mMap\u001b[39m(\u001b[32m\"Hamed\"\u001b[39m -> \u001b[32m5\u001b[39m, \u001b[32m\"Alireza\"\u001b[39m -> \u001b[32m20\u001b[39m, \u001b[32m\"Bob\"\u001b[39m -> \u001b[32m10\u001b[39m, \u001b[32m\"Fred\"\u001b[39m -> \u001b[32m7\u001b[39m)"
      ]
     },
     "execution_count": 32,
     "metadata": {},
     "output_type": "execute_result"
    }
   ],
   "source": [
    "immute_scores = immute_scores + (\"Bob\" -> 10, \"Fred\" -> 7)\n",
    "immute_scores"
   ]
  },
  {
   "cell_type": "markdown",
   "metadata": {},
   "source": [
    "You can even use the += operator:\n"
   ]
  },
  {
   "cell_type": "code",
   "execution_count": 33,
   "metadata": {},
   "outputs": [
    {
     "data": {
      "text/plain": [
       "\u001b[36mres32_1\u001b[39m: \u001b[32mMap\u001b[39m[\u001b[32mString\u001b[39m, \u001b[32mInt\u001b[39m] = \u001b[33mMap\u001b[39m(\u001b[32m\"Hamed\"\u001b[39m -> \u001b[32m5\u001b[39m, \u001b[32m\"Alireza\"\u001b[39m -> \u001b[32m20\u001b[39m, \u001b[32m\"Bob\"\u001b[39m -> \u001b[32m10\u001b[39m, \u001b[32m\"Fred\"\u001b[39m -> \u001b[32m7\u001b[39m)"
      ]
     },
     "execution_count": 33,
     "metadata": {},
     "output_type": "execute_result"
    }
   ],
   "source": [
    "immute_scores += (\"Bob\" -> 10, \"Fred\" -> 7)\n",
    "immute_scores"
   ]
  },
  {
   "cell_type": "markdown",
   "metadata": {},
   "source": [
    "Similarly, to remove a key from an immutable map, use the - operator to obtain\n",
    "a new map without the key:"
   ]
  },
  {
   "cell_type": "code",
   "execution_count": 34,
   "metadata": {},
   "outputs": [],
   "source": [
    "immute_scores = immute_scores - \"Alice\""
   ]
  },
  {
   "cell_type": "markdown",
   "metadata": {},
   "source": [
    "or"
   ]
  },
  {
   "cell_type": "code",
   "execution_count": null,
   "metadata": {},
   "outputs": [],
   "source": [
    "immute_scoreses -= \"Alice\""
   ]
  },
  {
   "cell_type": "markdown",
   "metadata": {},
   "source": [
    "but of course because immute_scores is immutale you cannot modify it as below"
   ]
  },
  {
   "cell_type": "code",
   "execution_count": 28,
   "metadata": {},
   "outputs": [
    {
     "name": "stderr",
     "output_type": "stream",
     "text": [
      "cmd28.sc:1: value update is not a member of scala.collection.immutable.Map[String,Int]\n",
      "val res28 = immute_scores(\"Bob\")=15\n",
      "            ^"
     ]
    },
    {
     "ename": "",
     "evalue": "",
     "output_type": "error",
     "traceback": [
      "Compilation Failed"
     ]
    }
   ],
   "source": [
    "immute_scores(\"Bob\")=15"
   ]
  },
  {
   "cell_type": "markdown",
   "metadata": {},
   "source": [
    "### Important note"
   ]
  },
  {
   "cell_type": "markdown",
   "metadata": {},
   "source": [
    "you may take a deeper look into what exactly scala does by below command in the shell:"
   ]
  },
  {
   "cell_type": "markdown",
   "metadata": {},
   "source": [
    "```\n",
    "scalac -Xprint:all test.scala\n",
    "```"
   ]
  },
  {
   "cell_type": "markdown",
   "metadata": {},
   "source": [
    "by running this command you would see that scala would convert `immute_scores += (\"Bob\" -> 10, \"Fred\" -> 7)` to `immute_scores = immute_scores + (\"Bob\" -> 10, \"Fred\" -> 7)`, in contrast that for immutable maps there is not any `+=` method! but because of being `var`, scala make this conversion and runs the code correctly "
   ]
  },
  {
   "cell_type": "markdown",
   "metadata": {},
   "source": [
    "## 4.4 Iterating over Maps"
   ]
  },
  {
   "cell_type": "markdown",
   "metadata": {},
   "source": [
    "The following amazingly simple loop iterates over all key/value pairs of a map:\n",
    "\n",
    "```for ((k, v) <- map) process k and v```"
   ]
  },
  {
   "cell_type": "code",
   "execution_count": 35,
   "metadata": {},
   "outputs": [
    {
     "name": "stdout",
     "output_type": "stream",
     "text": [
      "(Bob,10)\n",
      "(Fred,7)\n",
      "(Cindy,8)\n"
     ]
    }
   ],
   "source": [
    "for ((k,v) <-scores) println(k,v)"
   ]
  },
  {
   "cell_type": "markdown",
   "metadata": {},
   "source": [
    "If for some reason you want to visit only the keys or values, use the keySet and\n",
    "values methods, as you would in Java. The values method returns an Iterable that\n",
    "you can use in a for loop.\n"
   ]
  },
  {
   "cell_type": "code",
   "execution_count": 36,
   "metadata": {},
   "outputs": [
    {
     "name": "stdout",
     "output_type": "stream",
     "text": [
      "10\n",
      "7\n",
      "8\n"
     ]
    },
    {
     "data": {
      "text/plain": [
       "\u001b[36mres35_0\u001b[39m: \u001b[32mcollection\u001b[39m.\u001b[32mSet\u001b[39m[\u001b[32mString\u001b[39m] = \u001b[33mSet\u001b[39m(\u001b[32m\"Bob\"\u001b[39m, \u001b[32m\"Fred\"\u001b[39m, \u001b[32m\"Cindy\"\u001b[39m)"
      ]
     },
     "execution_count": 36,
     "metadata": {},
     "output_type": "execute_result"
    }
   ],
   "source": [
    "scores.keySet // A set such as Set(\"Bob\", \"Cindy\", \"Fred\", \"Alice\")\n",
    "for (v <- scores.values) println(v) // Prints 10 8 7 10 or some permutation thereof"
   ]
  },
  {
   "cell_type": "markdown",
   "metadata": {},
   "source": [
    "To reverse a map— that is, switch keys and values— use"
   ]
  },
  {
   "cell_type": "code",
   "execution_count": 37,
   "metadata": {},
   "outputs": [
    {
     "data": {
      "text/plain": [
       "\u001b[36mres36\u001b[39m: \u001b[32mcollection\u001b[39m.\u001b[32mmutable\u001b[39m.\u001b[32mMap\u001b[39m[\u001b[32mInt\u001b[39m, \u001b[32mString\u001b[39m] = \u001b[33mMap\u001b[39m(\u001b[32m8\u001b[39m -> \u001b[32m\"Cindy\"\u001b[39m, \u001b[32m7\u001b[39m -> \u001b[32m\"Fred\"\u001b[39m, \u001b[32m10\u001b[39m -> \u001b[32m\"Bob\"\u001b[39m)"
      ]
     },
     "execution_count": 37,
     "metadata": {},
     "output_type": "execute_result"
    }
   ],
   "source": [
    "for ((k, v) <- scores) yield (v, k)"
   ]
  },
  {
   "cell_type": "markdown",
   "metadata": {},
   "source": [
    "## 4.5 Sorted Maps"
   ]
  },
  {
   "cell_type": "markdown",
   "metadata": {},
   "source": [
    "There are two common implementation strategies for maps: hash tables and\n",
    "balanced trees. Hash tables use the hash codes of the keys to scramble entries,\n",
    "so iterating over the elements yields them in unpredictable order. By default,\n",
    "Scala gives you a map based on a hash table because it is usually more effi cient.\n",
    "If you need to visit the keys in sorted order, use a SortedMap instead.\n"
   ]
  },
  {
   "cell_type": "code",
   "execution_count": 38,
   "metadata": {},
   "outputs": [
    {
     "data": {
      "text/plain": [
       "\u001b[36mscores\u001b[39m: \u001b[32mcollection\u001b[39m.\u001b[32mSortedMap\u001b[39m[\u001b[32mString\u001b[39m, \u001b[32mInt\u001b[39m] = \u001b[33mMap\u001b[39m(\u001b[32m\"Alice\"\u001b[39m -> \u001b[32m10\u001b[39m, \u001b[32m\"Bob\"\u001b[39m -> \u001b[32m3\u001b[39m, \u001b[32m\"Cindy\"\u001b[39m -> \u001b[32m8\u001b[39m, \u001b[32m\"Fred\"\u001b[39m -> \u001b[32m7\u001b[39m)"
      ]
     },
     "execution_count": 38,
     "metadata": {},
     "output_type": "execute_result"
    }
   ],
   "source": [
    "val scores = scala.collection.SortedMap(\"Alice\" -> 10, \n",
    " \"Fred\" -> 7, \"Bob\" -> 3, \"Cindy\" -> 8)"
   ]
  },
  {
   "cell_type": "markdown",
   "metadata": {},
   "source": [
    "TIP: If you want to visit the keys in insertion order, use a LinkedHashMap. For\n",
    "example:"
   ]
  },
  {
   "cell_type": "code",
   "execution_count": 39,
   "metadata": {},
   "outputs": [
    {
     "data": {
      "text/plain": [
       "\u001b[36mmonths\u001b[39m: \u001b[32mcollection\u001b[39m.\u001b[32mmutable\u001b[39m.\u001b[32mLinkedHashMap\u001b[39m[\u001b[32mString\u001b[39m, \u001b[32mInt\u001b[39m] = \u001b[33mMap\u001b[39m(\u001b[32m\"January\"\u001b[39m -> \u001b[32m1\u001b[39m, \u001b[32m\"February\"\u001b[39m -> \u001b[32m2\u001b[39m, \u001b[32m\"March\"\u001b[39m -> \u001b[32m3\u001b[39m, \u001b[32m\"April\"\u001b[39m -> \u001b[32m4\u001b[39m, \u001b[32m\"May\"\u001b[39m -> \u001b[32m5\u001b[39m)"
      ]
     },
     "execution_count": 39,
     "metadata": {},
     "output_type": "execute_result"
    }
   ],
   "source": [
    "val months = scala.collection.mutable.LinkedHashMap(\"January\" -> 1, \"February\" -> 2, \n",
    "                                                    \"March\" -> 3, \"April\" -> 4, \"May\" -> 5)"
   ]
  },
  {
   "cell_type": "markdown",
   "metadata": {},
   "source": [
    "## 4.6 Tuples"
   ]
  },
  {
   "cell_type": "markdown",
   "metadata": {},
   "source": [
    "Maps are collections of key/value pairs. Pairs are the simplest case of tuples—\n",
    "aggregates of values of different types.\n",
    "A tuple value is formed by enclosing individual values in parentheses.\n",
    "For example:"
   ]
  },
  {
   "cell_type": "code",
   "execution_count": 40,
   "metadata": {},
   "outputs": [
    {
     "data": {
      "text/plain": [
       "\u001b[36mres39\u001b[39m: (\u001b[32mInt\u001b[39m, \u001b[32mDouble\u001b[39m, \u001b[32mString\u001b[39m) = (\u001b[32m1\u001b[39m, \u001b[32m3.14\u001b[39m, \u001b[32m\"Fred\"\u001b[39m)"
      ]
     },
     "execution_count": 40,
     "metadata": {},
     "output_type": "execute_result"
    }
   ],
   "source": [
    "(1, 3.14, \"Fred\")"
   ]
  },
  {
   "cell_type": "code",
   "execution_count": 41,
   "metadata": {},
   "outputs": [
    {
     "data": {
      "text/plain": [
       "\u001b[36mt\u001b[39m: (\u001b[32mInt\u001b[39m, \u001b[32mDouble\u001b[39m, \u001b[32mString\u001b[39m) = (\u001b[32m1\u001b[39m, \u001b[32m3.14\u001b[39m, \u001b[32m\"Fred\"\u001b[39m)"
      ]
     },
     "execution_count": 41,
     "metadata": {},
     "output_type": "execute_result"
    }
   ],
   "source": [
    "val t = (1, 3.14, \"Fred\")"
   ]
  },
  {
   "cell_type": "markdown",
   "metadata": {},
   "source": [
    "then you can access its components with the methods _1, _2, _3, for example:"
   ]
  },
  {
   "cell_type": "code",
   "execution_count": 42,
   "metadata": {},
   "outputs": [
    {
     "data": {
      "text/plain": [
       "\u001b[36msecond\u001b[39m: \u001b[32mDouble\u001b[39m = \u001b[32m3.14\u001b[39m"
      ]
     },
     "execution_count": 42,
     "metadata": {},
     "output_type": "execute_result"
    }
   ],
   "source": [
    "val second = t._2 // Sets second to 3.14"
   ]
  },
  {
   "cell_type": "markdown",
   "metadata": {},
   "source": [
    "Unlike array or string positions, the component positions of a tuple start with 1 ,\n",
    "not 0 .\n",
    "51 4.7 Tuples"
   ]
  },
  {
   "cell_type": "markdown",
   "metadata": {},
   "source": [
    "Usually, it is better to use pattern matching to get at the components of a tuple,\n",
    "for example"
   ]
  },
  {
   "cell_type": "code",
   "execution_count": 43,
   "metadata": {},
   "outputs": [
    {
     "data": {
      "text/plain": [
       "\u001b[36mfirst\u001b[39m: \u001b[32mInt\u001b[39m = \u001b[32m1\u001b[39m\n",
       "\u001b[36msecond\u001b[39m: \u001b[32mDouble\u001b[39m = \u001b[32m3.14\u001b[39m\n",
       "\u001b[36mthird\u001b[39m: \u001b[32mString\u001b[39m = \u001b[32m\"Fred\"\u001b[39m"
      ]
     },
     "execution_count": 43,
     "metadata": {},
     "output_type": "execute_result"
    }
   ],
   "source": [
    "val (first, second, third) = t // Sets first to 1 , second to 3.14, third to \"Fred\""
   ]
  },
  {
   "cell_type": "markdown",
   "metadata": {},
   "source": [
    "You can use a _ if you don’ t need all components:"
   ]
  },
  {
   "cell_type": "code",
   "execution_count": 44,
   "metadata": {},
   "outputs": [
    {
     "data": {
      "text/plain": [
       "\u001b[36mfirst\u001b[39m: \u001b[32mInt\u001b[39m = \u001b[32m1\u001b[39m\n",
       "\u001b[36msecond\u001b[39m: \u001b[32mDouble\u001b[39m = \u001b[32m3.14\u001b[39m"
      ]
     },
     "execution_count": 44,
     "metadata": {},
     "output_type": "execute_result"
    }
   ],
   "source": [
    "val (first, second, _) = t"
   ]
  },
  {
   "cell_type": "markdown",
   "metadata": {},
   "source": [
    "## 4.7 Zipping"
   ]
  },
  {
   "cell_type": "markdown",
   "metadata": {},
   "source": [
    "One reason for using tuples is to bundle together values so that they can be pro-\n",
    "cessed together. This is commonly done with the zip method. For example,\n",
    "the code"
   ]
  },
  {
   "cell_type": "code",
   "execution_count": 45,
   "metadata": {},
   "outputs": [
    {
     "data": {
      "text/plain": [
       "\u001b[36msymbols\u001b[39m: \u001b[32mArray\u001b[39m[\u001b[32mString\u001b[39m] = \u001b[33mArray\u001b[39m(\u001b[32m\"<\"\u001b[39m, \u001b[32m\"-\"\u001b[39m, \u001b[32m\">\"\u001b[39m)\n",
       "\u001b[36mcounts\u001b[39m: \u001b[32mArray\u001b[39m[\u001b[32mInt\u001b[39m] = \u001b[33mArray\u001b[39m(\u001b[32m2\u001b[39m, \u001b[32m10\u001b[39m, \u001b[32m2\u001b[39m)\n",
       "\u001b[36mpairs\u001b[39m: \u001b[32mArray\u001b[39m[(\u001b[32mString\u001b[39m, \u001b[32mInt\u001b[39m)] = \u001b[33mArray\u001b[39m((\u001b[32m\"<\"\u001b[39m, \u001b[32m2\u001b[39m), (\u001b[32m\"-\"\u001b[39m, \u001b[32m10\u001b[39m), (\u001b[32m\">\"\u001b[39m, \u001b[32m2\u001b[39m))"
      ]
     },
     "execution_count": 45,
     "metadata": {},
     "output_type": "execute_result"
    }
   ],
   "source": [
    "val symbols = Array(\"<\", \"-\", \">\")\n",
    "val counts = Array(2, 10, 2)\n",
    "val pairs = symbols.zip(counts)"
   ]
  },
  {
   "cell_type": "code",
   "execution_count": 46,
   "metadata": {
    "scrolled": true
   },
   "outputs": [
    {
     "name": "stdout",
     "output_type": "stream",
     "text": [
      "<<---------->>"
     ]
    }
   ],
   "source": [
    "for ((s, n) <- pairs) print(s * n) // Prints <<---------->>"
   ]
  }
 ],
 "metadata": {
  "kernelspec": {
   "display_name": "Scala",
   "language": "scala",
   "name": "scala"
  },
  "language_info": {
   "codemirror_mode": "text/x-scala",
   "file_extension": ".scala",
   "mimetype": "text/x-scala",
   "name": "scala211",
   "nbconvert_exporter": "script",
   "pygments_lexer": "scala",
   "version": "2.11.11"
  }
 },
 "nbformat": 4,
 "nbformat_minor": 2
}
