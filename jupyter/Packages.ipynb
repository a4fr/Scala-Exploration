{
 "cells": [
  {
   "cell_type": "markdown",
   "metadata": {},
   "source": [
    "# 7. Packages and Imports"
   ]
  },
  {
   "cell_type": "markdown",
   "metadata": {},
   "source": [
    "## 7.1 Packages"
   ]
  },
  {
   "cell_type": "markdown",
   "metadata": {},
   "source": [
    "Packages in Scala fulfi ll the same purpose as packages in Java or namespaces in C++: to manage names in a large program. For example, the name Map can occur in the packages scala.collection.immutable and scala.collection.mutable without conflict. To access either name, you can use the fully qualified scala.collection.immutable.Map or scala.collection.mutable.Map. Alternatively, use an import statement to provide a shorter alias."
   ]
  },
  {
   "cell_type": "markdown",
   "metadata": {},
   "source": [
    "To add items to a package, you can include them in package statements, such as:"
   ]
  },
  {
   "cell_type": "code",
   "execution_count": null,
   "metadata": {},
   "outputs": [
    {
     "ename": "",
     "evalue": "",
     "execution_count": 0,
     "output_type": "error",
     "status": "error",
     "traceback": [
      "SyntaxError: found \"package com {\\n packa\", expected TopPkgSeq | Import | Prelude ~ BlockDef | Expr | End at index 0",
      "package com {",
      "^"
     ]
    }
   ],
   "source": [
    "package com {\n",
    " package horstmann {\n",
    " package impatient {\n",
    " class Employee\n",
    " //...\n",
    " }\n",
    " }\n",
    "}"
   ]
  },
  {
   "cell_type": "markdown",
   "metadata": {},
   "source": [
    "Then the class name Employee can be accessed anywhere as com.horstmann.\n",
    "impatient.Employee.\n"
   ]
  },
  {
   "cell_type": "markdown",
   "metadata": {},
   "source": [
    "Unlike an object or a class, a package can be defi ned in multiple fi les. The preced-\n",
    "ing code might be in a fi le Employee.scala, and a fi le Manager.scala might contain"
   ]
  },
  {
   "cell_type": "code",
   "execution_count": null,
   "metadata": {},
   "outputs": [
    {
     "ename": "",
     "evalue": "",
     "execution_count": 0,
     "output_type": "error",
     "status": "error",
     "traceback": [
      "SyntaxError: found \"package com {\\n packa\", expected TopPkgSeq | Import | Prelude ~ BlockDef | Expr | End at index 0",
      "package com {",
      "^"
     ]
    }
   ],
   "source": [
    "package com {\n",
    " package horstmann {\n",
    " package impatient {\n",
    " class Manager\n",
    " //...\n",
    " }\n",
    " }\n",
    "}"
   ]
  },
  {
   "cell_type": "markdown",
   "metadata": {},
   "source": [
    "Conversely, you can contribute to more than one package in a single fi le. The file\n",
    "Employee.scala may contain"
   ]
  },
  {
   "cell_type": "code",
   "execution_count": null,
   "metadata": {},
   "outputs": [
    {
     "ename": "",
     "evalue": "",
     "execution_count": 0,
     "output_type": "error",
     "status": "error",
     "traceback": [
      "SyntaxError: found \"package com {\\n packa\", expected TopPkgSeq | Import | Prelude ~ BlockDef | Expr | End at index 0",
      "package com {",
      "^"
     ]
    }
   ],
   "source": [
    "package com {\n",
    " package horstmann {\n",
    " package impatient {\n",
    " class Employee\n",
    " //...\n",
    " }\n",
    " }\n",
    "}\n",
    "package net {\n",
    " package bigjava {\n",
    " class Counter\n",
    " //...\n",
    " }\n",
    "}"
   ]
  },
  {
   "cell_type": "markdown",
   "metadata": {},
   "source": [
    "## 7.2 Concise access to related code\n",
    "(from Programming in Scala_ A comprehensive step-by-step guide) "
   ]
  },
  {
   "cell_type": "markdown",
   "metadata": {},
   "source": [
    "When code is divided into a package hierarchy, it doesn’t just help people\n",
    "browse through the code. It also tells the compiler that code in the same package is related in some way to each other. Scala takes advantage of this\n",
    "relatedness by allowing short, unqualified names when accessing code that\n",
    "is in the same package."
   ]
  },
  {
   "cell_type": "code",
   "execution_count": null,
   "metadata": {},
   "outputs": [
    {
     "ename": "",
     "evalue": "",
     "execution_count": 0,
     "output_type": "error",
     "status": "error",
     "traceback": [
      "SyntaxError: found \"package bobsrockets \", expected TopPkgSeq | Import | Prelude ~ BlockDef | Expr | End at index 0",
      "package bobsrockets ",
      "^"
     ]
    }
   ],
   "source": [
    "// List 13.4\n",
    "package bobsrockets {\n",
    "package navigation {\n",
    "class Navigator {\n",
    "// No need to say bobsrockets.navigation.StarMap\n",
    "val map = new StarMap\n",
    "}\n",
    "class StarMap\n",
    "}\n",
    "class Ship {\n",
    "// No need to say bobsrockets.navigation.Navigator\n",
    "val nav = new navigation.Navigator\n",
    "}\n",
    "package fleets {\n",
    "class Fleet {\n",
    "// No need to say bobsrockets.Ship\n",
    "def addShip() = { new Ship }\n",
    "}\n",
    "}\n",
    "}"
   ]
  },
  {
   "cell_type": "code",
   "execution_count": null,
   "metadata": {},
   "outputs": [],
   "source": [
    "// List 13.5\n",
    "package bobsrockets {\n",
    "class Ship\n",
    "}\n",
    "package bobsrockets.fleets {\n",
    "class Fleet {\n",
    "// Doesn't compile! Ship is not in scope.\n",
    "def addShip() = { new Ship }\n",
    "}\n",
    "}"
   ]
  },
  {
   "cell_type": "code",
   "execution_count": null,
   "metadata": {},
   "outputs": [],
   "source": [
    "// List 13.6\n",
    "// In file launch.scala\n",
    "package launch {\n",
    "class Booster3\n",
    "}\n",
    "// In file bobsrockets.scala\n",
    "package bobsrockets {\n",
    "package navigation {\n",
    "package launch {\n",
    "class Booster1\n",
    "}\n",
    "class MissionControl {\n",
    "val booster1 = new launch.Booster1\n",
    "val booster2 = new bobsrockets.launch.Booster2\n",
    "val booster3 = new _root_.launch.Booster3\n",
    "}\n",
    "}\n",
    "package launch {\n",
    "class Booster2\n",
    "}\n",
    "}"
   ]
  },
  {
   "cell_type": "markdown",
   "metadata": {},
   "source": [
    "Listing 13.4 gives three simple examples. First, as you would expect, a\n",
    "class can be accessed from within its own package without needing a prefix.\n",
    "That’s why new StarMap compiles. Class StarMap is in the same package,\n",
    "bobsrockets.navigation , as the new expression that accesses it, so the\n",
    "package name doesn’t need to be prefixed.\n",
    "Second, a package itself can be accessed from its containing package\n",
    "without needing a prefix. In Listing 13.4, look at how class Navigator is\n",
    "instantiated. The new expression appears in package bobsrockets , which is\n",
    "the containing package of bobsrockets.navigation . Thus, it can access\n",
    "package bobsrockets.navigation as simply navigation .\n",
    "Third, when using the curly-braces packaging syntax, all names accessi-\n",
    "ble in scopes outside the packaging are also available inside it. An example\n",
    "in Listing 13.4 is the way addShip() creates a new Ship . The method is\n",
    "defined within two packagings: an outer one for bobsrockets , and an in-\n",
    "ner one for bobsrockets.fleets . Since Ship is accessible in the outer\n",
    "packaging, it can be referenced from within addShip() .\n",
    "Note that this kind of access is only available if you explicitly nest the\n",
    "packagings. If you stick to one package per file, then—like in Java—the\n",
    "only names available will be the ones defined in the current package. In List-\n",
    "ing 13.5, the packaging of bobsrockets.fleets has been moved to the top\n",
    "level. Since it is no longer enclosed in a packaging for bobsrockets , names\n",
    "from bobsrockets are not immediately in scope. As a result, new Ship gives\n",
    "a compile error. If nesting packages with braces shifts your code uncom-\n",
    "fortably to the right, you can also use multiple package clauses without the\n",
    "braces. 1 For instance, the code below also defines class Fleet in two nested\n",
    "packages bobrockets and fleets , just like you saw it in Listing 13.4:"
   ]
  },
  {
   "cell_type": "code",
   "execution_count": null,
   "metadata": {},
   "outputs": [],
   "source": [
    "package bobsrockets\n",
    "package fleets\n",
    "class Fleet {\n",
    "// No need to say bobsrockets.Ship\n",
    "def addShip() = { new Ship }\n",
    "}"
   ]
  },
  {
   "cell_type": "markdown",
   "metadata": {},
   "source": [
    "One final trick is important to know. Sometimes, you end up coding in a\n",
    "heavily crowded scope where package names are hiding each other. In List-\n",
    "ing 13.6, the scope of class MissionControl includes three separate pack-\n",
    "ages named launch ! There’s one launch in bobsrockets.navigation ,\n",
    "one in bobsrockets , and one at the top level. How would you reference\n",
    "each of Booster1 , Booster2 , and Booster3 ?\n",
    "Accessing the first one is easiest. A reference to launch by itself will\n",
    "get you to package bobsrockets.navigation.launch , because that is the\n",
    "launch package defined in the closest enclosing scope. Thus, you can refer\n",
    "to the first booster class as simply launch.Booster1 . Referring to the sec-\n",
    "ond one also is not tricky. You can write bobrockets.launch.Booster2\n",
    "and be clear about which one you are referencing. That leaves the question\n",
    "of the third booster class: How can you access Booster3 , considering that a\n",
    "nested launch package shadows the top-level one?\n",
    "To help in this situation, Scala provides a package named _root_ that\n",
    "is outside any package a user can write. Put another way, every top-level\n",
    "package you can write is treated as a member of package _root_ . For exam-\n",
    "ple, both launch and bobsrockets of Listing 13.6 are members of package\n",
    "_root_ . As a result, _root_.launch gives you the top-level launch pack-\n",
    "age, and _root_.launch.Booster3 designates the outermost booster class."
   ]
  },
  {
   "cell_type": "markdown",
   "metadata": {},
   "source": [
    "## 7.3 Chaied Package Clauses"
   ]
  },
  {
   "cell_type": "markdown",
   "metadata": {},
   "source": [
    "A package clause can contain a “ chain,” or path segment, for example:"
   ]
  },
  {
   "cell_type": "code",
   "execution_count": null,
   "metadata": {},
   "outputs": [],
   "source": [
    "package com.horstmann.impatient { \n",
    " // Members of com and com.horstmann are not visible here\n",
    " package people { \n",
    " class Person \n",
    " //...\n",
    " }\n",
    "}"
   ]
  },
  {
   "cell_type": "markdown",
   "metadata": {},
   "source": [
    "Such a clause limits the visible members. Now a com.horstmann.collection package\n",
    "would no longer be accessible as collection."
   ]
  },
  {
   "cell_type": "markdown",
   "metadata": {},
   "source": [
    "## 7.4 Top-of-File Notation"
   ]
  },
  {
   "cell_type": "markdown",
   "metadata": {},
   "source": [
    "Instead of the nested notation that we have used up to now, you can have package\n",
    "clauses at the top of the fi le, without braces. For example:\n"
   ]
  },
  {
   "cell_type": "code",
   "execution_count": null,
   "metadata": {},
   "outputs": [],
   "source": [
    "package com.horstmann.impatient\n",
    "package people\n",
    "class Person\n",
    " ///..."
   ]
  },
  {
   "cell_type": "markdown",
   "metadata": {},
   "source": [
    "This is equivalent to"
   ]
  },
  {
   "cell_type": "code",
   "execution_count": null,
   "metadata": {},
   "outputs": [],
   "source": [
    "package com.horstmann.impatient { \n",
    " package people { \n",
    " class Person \n",
    " ///...\n",
    " // Until the end of the fi le\n",
    " }\n",
    "}"
   ]
  },
  {
   "cell_type": "markdown",
   "metadata": {},
   "source": [
    "This is the preferred notation if all the code in the fi le belongs to the same package\n",
    "(which is the usual case).\n",
    "Note that in the example above, everything in the fi le belongs to the package\n",
    "com.horstmann.impatient.people, but the package com.horstmann.impatient has also been\n",
    "opened up so you can refer to its contents.\n"
   ]
  },
  {
   "cell_type": "markdown",
   "metadata": {},
   "source": [
    "## 7.5 Package Objects\n",
    "(from Programming in Scala_ A comprehensive step-by-step guide) "
   ]
  },
  {
   "cell_type": "markdown",
   "metadata": {},
   "source": [
    "So far, the only code you have seen added to packages are classes, traits,\n",
    "and standalone objects. These are by far the most common definitions that\n",
    "are placed at the top level of a package. But Scala doesn’t limit you to just\n",
    "those—Any kind of definition that you can put inside a class can also be at\n",
    "the top level of a package. If you have some helper method you’d like to be\n",
    "in scope for an entire package, go ahead and put it right at the top level of\n",
    "the package.\n",
    "To do so, put the definitions in a package object. Each package is allowed\n",
    "to have one package object. Any definitions placed in a package object are\n",
    "considered members of the package itself.\n",
    "An example is shown in Listing 13.14. File package.scala holds a\n",
    "package object for package bobsdelights . Syntactically, a package ob-\n",
    "ject looks much like one of the curly-braces packagings shown earlier in the\n",
    "chapter. The only difference is that it includes the object keyword. It’s\n",
    "a package object, not a package. The contents of the curly braces can in-\n",
    "clude any definitions you like. In this case, the package object includes the\n",
    "showFruit utility method from Listing 13.8."
   ]
  },
  {
   "cell_type": "markdown",
   "metadata": {},
   "source": [
    "Given that definition, any other code in any package can import the\n",
    "method just like it would import a class. For example, Listing 13.14 also\n",
    "shows the standalone object PrintMenu , which is located in a different pack-\n",
    "age. PrintMenu can import the utility method showFruit in the same way\n",
    "it would import the class Fruit."
   ]
  },
  {
   "cell_type": "code",
   "execution_count": null,
   "metadata": {},
   "outputs": [],
   "source": [
    "// Listing 13.14 A package object.\n",
    "// In file bobsdelights/package.scala\n",
    "package object bobsdelights {\n",
    "def showFruit(fruit: Fruit) = {\n",
    "import fruit._\n",
    "println(name + \"s are \" + color)\n",
    "}\n",
    "}\n",
    "// In file PrintMenu.scala\n",
    "package printmenu\n",
    "import bobsdelights.Fruits\n",
    "import bobsdelights.showFruit\n",
    "object PrintMenu {\n",
    "def main(args: Array[String]) = {\n",
    "for (fruit <- Fruits.menu) {\n",
    "showFruit(fruit)\n",
    "}\n",
    "}\n",
    "}"
   ]
  },
  {
   "cell_type": "markdown",
   "metadata": {},
   "source": [
    "Looking ahead, there are other uses of package objects for kinds of\n",
    "definitions you haven’t seen yet. Package objects are frequently used to\n",
    "hold package-wide type aliases (Chapter 20) and implicit conversions (Chap-\n",
    "ter 21). The top-level scala package has a package object, and its definitions\n",
    "are available to all Scala code.\n",
    "Package objects are compiled to class files named package.class that\n",
    "are the located in the directory of the package that they augment. It’s useful\n",
    "to keep the same convention for source files. So you would typically put the\n",
    "source file of the package object bobsdelights of Listing 13.14 into a file\n",
    "named package.scala that resides in the bobsdelights directory."
   ]
  },
  {
   "cell_type": "markdown",
   "metadata": {},
   "source": [
    "## 7.6 Package Visibility"
   ]
  },
  {
   "cell_type": "markdown",
   "metadata": {},
   "source": [
    "In Java, a class member that isn’ t declared as public, private, or protected is visible\n",
    "in the package containing the class. In Scala, you can achieve the same effect with\n",
    "qualifi ers. The following method is visible in its own package:\n"
   ]
  },
  {
   "cell_type": "code",
   "execution_count": null,
   "metadata": {},
   "outputs": [],
   "source": [
    "package com.horstmann.impatient.people\n",
    "class Person {\n",
    " private[people] def description = s\"A person with name $name\"\n",
    " ...\n",
    "}"
   ]
  },
  {
   "cell_type": "markdown",
   "metadata": {},
   "source": [
    "You can extend the visibility to an enclosing package:\n"
   ]
  },
  {
   "cell_type": "code",
   "execution_count": null,
   "metadata": {},
   "outputs": [],
   "source": [
    "private[impatient] def description = s\"A person with name $name\"\n"
   ]
  },
  {
   "cell_type": "markdown",
   "metadata": {},
   "source": [
    "## 7.7 Imports\n"
   ]
  },
  {
   "cell_type": "markdown",
   "metadata": {},
   "source": [
    "Imports let you use short names instead of long ones. With the clause"
   ]
  },
  {
   "cell_type": "code",
   "execution_count": null,
   "metadata": {},
   "outputs": [],
   "source": [
    "import java.awt.Color\n"
   ]
  },
  {
   "cell_type": "markdown",
   "metadata": {},
   "source": [
    "you can write Color in your code instead of java.awt.Color.\n",
    "That is the sole purpose of imports. If you don’ t mind long names, you’ ll never\n",
    "need them.\n",
    "You can import all members of a package as"
   ]
  },
  {
   "cell_type": "code",
   "execution_count": 1,
   "metadata": {},
   "outputs": [
    {
     "data": {
      "text/plain": [
       "\u001b[32mimport \u001b[39m\u001b[36mjava.awt._\u001b[39m"
      ]
     },
     "execution_count": 1,
     "metadata": {},
     "output_type": "execute_result"
    }
   ],
   "source": [
    "import java.awt._"
   ]
  },
  {
   "cell_type": "markdown",
   "metadata": {},
   "source": [
    "This is the same as the * wildcard in Java. (In Scala, * is a valid character for an\n",
    "identifi er. You could defi ne a package com.horstmann.*.people, but please don’ t.)\n",
    "You can also import all members of a class or object."
   ]
  },
  {
   "cell_type": "code",
   "execution_count": null,
   "metadata": {},
   "outputs": [],
   "source": [
    "import java.awt.Color._\n",
    "val c1 = RED // Color.RED\n",
    "val c2 = decode(\"#ff0000\") // Color.decode"
   ]
  },
  {
   "cell_type": "markdown",
   "metadata": {},
   "source": [
    "variant, but in Scala it is commonly used.\n",
    "Once you import a package, you can access its subpackages with shorter names.\n",
    "For example:\n"
   ]
  },
  {
   "cell_type": "code",
   "execution_count": null,
   "metadata": {},
   "outputs": [],
   "source": [
    "import java.awt._\n",
    "def handler(evt: event.ActionEvent) { // java.awt.event.ActionEvent\n",
    " ...\n",
    "}"
   ]
  },
  {
   "cell_type": "markdown",
   "metadata": {},
   "source": [
    "The event package is a member of java.awt, and the import brings it into scope.\n"
   ]
  },
  {
   "cell_type": "markdown",
   "metadata": {},
   "source": [
    "## 7.8 Imports Can Be Anywhere"
   ]
  },
  {
   "cell_type": "code",
   "execution_count": 1,
   "metadata": {},
   "outputs": [
    {
     "ename": "",
     "evalue": "",
     "execution_count": 1,
     "output_type": "error",
     "status": "error",
     "traceback": [
      "SyntaxError: found \"In Scala, an import \", expected \"while\" | \"-\".? ~ (Float | Int) | Bool | String | \"'\" ~/ (Char | Symbol) | `null` | \"import\" | Dcl | TraitDef | ClsDef | ObjDef | \"{\" | \"new\" | \"(\" | AlphabetKeywords | SymbolicKeywords | \"package\" | \"if\" | LocalMod | AccessMod | `override` | \"@\" | \"`\" | `this` | `super` ~ ClassQualifier.? | End | \"implicit\" | \"throw\" | \"return\" | \"try\" | \"for\" | \"do\" | Element | CDSect | PI | Comment at index 0",
      "In Scala, an import ",
      "^"
     ]
    }
   ],
   "source": [
    "In Scala, an import statement can be anywhere, not just at the top of a fi le. The\n",
    "scope of the import statement extends until the end of the enclosing block. For\n",
    "example,"
   ]
  },
  {
   "cell_type": "code",
   "execution_count": 1,
   "metadata": {},
   "outputs": [
    {
     "ename": "",
     "evalue": "",
     "execution_count": 1,
     "output_type": "error",
     "status": "error",
     "traceback": [
      "SyntaxError: found \"..\\n}\", expected BacktickId | PlainId at index 99",
      " ...",
      "  ^"
     ]
    }
   ],
   "source": [
    "class Manager { \n",
    "import scala.collection.mutable._\n",
    " val subordinates = new ArrayBuffer[Employee]\n",
    " ...\n",
    "}"
   ]
  },
  {
   "cell_type": "markdown",
   "metadata": {},
   "source": [
    "This is a very useful feature, particularly with wildcard imports. It is always a\n",
    "bit worrisome to import lots of names from different sources. In fact, some Java\n",
    "programmers dislike wildcard imports so much that they never use them but let\n",
    "their IDE generate long lists of imported classes.\n",
    "By putting the imports where they are needed, you can greatly reduce the\n",
    "potential for confl icts.\n"
   ]
  },
  {
   "cell_type": "markdown",
   "metadata": {},
   "source": [
    "## 7.9 Renaming and Hiding Members"
   ]
  },
  {
   "cell_type": "markdown",
   "metadata": {},
   "source": [
    "If you want to import more than one member from a package, use a selector\n",
    "like this:\n"
   ]
  },
  {
   "cell_type": "code",
   "execution_count": 2,
   "metadata": {},
   "outputs": [
    {
     "data": {
      "text/plain": [
       "\u001b[32mimport \u001b[39m\u001b[36mjava.awt.{Color, Font}\n",
       "\u001b[39m"
      ]
     },
     "execution_count": 2,
     "metadata": {},
     "output_type": "execute_result"
    }
   ],
   "source": [
    "import java.awt.{Color, Font}\n"
   ]
  },
  {
   "cell_type": "markdown",
   "metadata": {},
   "source": [
    "The selector syntax lets you rename members:"
   ]
  },
  {
   "cell_type": "code",
   "execution_count": 3,
   "metadata": {},
   "outputs": [
    {
     "data": {
      "text/plain": [
       "\u001b[32mimport \u001b[39m\u001b[36mjava.util.{HashMap => JavaHashMap}\n",
       "\u001b[39m\n",
       "\u001b[32mimport \u001b[39m\u001b[36mscala.collection.mutable._\u001b[39m"
      ]
     },
     "execution_count": 3,
     "metadata": {},
     "output_type": "execute_result"
    }
   ],
   "source": [
    "import java.util.{HashMap => JavaHashMap}\n",
    "import scala.collection.mutable._"
   ]
  },
  {
   "cell_type": "markdown",
   "metadata": {},
   "source": [
    "Now JavaHashMap is a java.util.HashMap and plain HashMap is a scala.collection.mutable.\n",
    "HashMap."
   ]
  },
  {
   "cell_type": "markdown",
   "metadata": {},
   "source": [
    "The selector HashMap => _ hides a member instead of renaming it. This is only useful\n",
    "if you import others:\n"
   ]
  },
  {
   "cell_type": "code",
   "execution_count": 4,
   "metadata": {},
   "outputs": [
    {
     "data": {
      "text/plain": [
       "\u001b[32mimport \u001b[39m\u001b[36mjava.util.{HashMap => _, _}\n",
       "\u001b[39m\n",
       "\u001b[32mimport \u001b[39m\u001b[36mscala.collection.mutable._\u001b[39m"
      ]
     },
     "execution_count": 4,
     "metadata": {},
     "output_type": "execute_result"
    }
   ],
   "source": [
    "import java.util.{HashMap => _, _}\n",
    "import scala.collection.mutable._"
   ]
  },
  {
   "cell_type": "markdown",
   "metadata": {},
   "source": [
    "Now HashMap unambiguously refers to scala.collection.mutable.HashMap since java.util.\n",
    "HashMap is hidden.\n"
   ]
  },
  {
   "cell_type": "markdown",
   "metadata": {},
   "source": [
    "## 7.10 Implicit Imports\n"
   ]
  },
  {
   "cell_type": "markdown",
   "metadata": {},
   "source": [
    "Every Scala program implicitly starts with\n"
   ]
  },
  {
   "cell_type": "code",
   "execution_count": 5,
   "metadata": {},
   "outputs": [
    {
     "data": {
      "text/plain": [
       "\u001b[32mimport \u001b[39m\u001b[36mjava.lang._ \n",
       "\u001b[39m\n",
       "\u001b[32mimport \u001b[39m\u001b[36mscala._ \n",
       "\u001b[39m\n",
       "\u001b[32mimport \u001b[39m\u001b[36mPredef._\u001b[39m"
      ]
     },
     "execution_count": 5,
     "metadata": {},
     "output_type": "execute_result"
    }
   ],
   "source": [
    "import java.lang._ \n",
    "import scala._ \n",
    "import Predef._"
   ]
  },
  {
   "cell_type": "markdown",
   "metadata": {},
   "source": [
    "As with Java programs, java.lang is always imported. Next, the scala package is\n",
    "imported, but in a special way. Unlike all other imports, this one is allowed\n",
    "to override the preceding import. For example, scala.StringBuilder overrides\n",
    "java.lang.StringBuilder instead of confl icting with it.\n",
    "Finally, the Predef object is imported. It contains commonly used types, implicit\n",
    "conversions, and utility methods. (The methods could equally well have been placed into the scala package object, but Predef was introduced before Scala had\n",
    "package objects.)\n",
    "Since the scala package is imported by default, you never need to write package\n",
    "names that start with scala. For example \n",
    "\n",
    "`collection.mutable.HashMap`\n",
    "\n",
    "is just as good as\n",
    "\n",
    "`scala.collection.mutable.HashMap`\n",
    "\n"
   ]
  },
  {
   "cell_type": "code",
   "execution_count": null,
   "metadata": {},
   "outputs": [],
   "source": []
  }
 ],
 "metadata": {
  "kernelspec": {
   "display_name": "Scala",
   "language": "scala",
   "name": "scala"
  },
  "language_info": {
   "codemirror_mode": "text/x-scala",
   "file_extension": ".scala",
   "mimetype": "text/x-scala",
   "name": "scala211",
   "nbconvert_exporter": "script",
   "pygments_lexer": "scala",
   "version": "2.11.11"
  }
 },
 "nbformat": 4,
 "nbformat_minor": 2
}
