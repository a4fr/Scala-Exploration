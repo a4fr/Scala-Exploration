{
 "cells": [
  {
   "cell_type": "markdown",
   "metadata": {},
   "source": [
    "# 5. Classes"
   ]
  },
  {
   "cell_type": "markdown",
   "metadata": {},
   "source": [
    "## 5.1 Simple Classes and Parameterless Methods"
   ]
  },
  {
   "cell_type": "markdown",
   "metadata": {},
   "source": [
    "In its simplest form, a Scala class looks very much like its equivalent in Java or C++:"
   ]
  },
  {
   "cell_type": "code",
   "execution_count": 1,
   "metadata": {},
   "outputs": [
    {
     "data": {
      "text/plain": [
       "defined \u001b[32mclass\u001b[39m \u001b[36mCounter\u001b[39m"
      ]
     },
     "execution_count": 1,
     "metadata": {},
     "output_type": "execute_result"
    }
   ],
   "source": [
    "class Counter { \n",
    " private var value = 0 // You must initialize the fi eld\n",
    " def increment() { value += 1 } // Methods are public by default\n",
    " def current() = value \n",
    "}"
   ]
  },
  {
   "cell_type": "markdown",
   "metadata": {},
   "source": [
    "In above example, the Counter class doesnt take any arguments. It has a private attribute called `value` and two public methods called `increment` and `current`"
   ]
  },
  {
   "cell_type": "code",
   "execution_count": 2,
   "metadata": {},
   "outputs": [
    {
     "name": "stdout",
     "output_type": "stream",
     "text": [
      "1\n"
     ]
    },
    {
     "data": {
      "text/plain": [
       "\u001b[36mmyCounter\u001b[39m: \u001b[32mCounter\u001b[39m = $sess.cmd0Wrapper$Helper$Counter@61325f5"
      ]
     },
     "execution_count": 2,
     "metadata": {},
     "output_type": "execute_result"
    }
   ],
   "source": [
    "val myCounter = new Counter // Or new Counter()\n",
    "myCounter.increment() \n",
    "println(myCounter.current)"
   ]
  },
  {
   "cell_type": "markdown",
   "metadata": {},
   "source": [
    "to get value of `value` variable, we should use current() method:"
   ]
  },
  {
   "cell_type": "code",
   "execution_count": 3,
   "metadata": {},
   "outputs": [
    {
     "name": "stdout",
     "output_type": "stream",
     "text": [
      "2\n"
     ]
    }
   ],
   "source": [
    "myCounter.increment() // Use () with mutator\n",
    "println(myCounter.current) // Don’ t use () with accessor"
   ]
  },
  {
   "cell_type": "markdown",
   "metadata": {},
   "source": [
    "hich form should you use? It is considered good style to use () for a mutator\n",
    "method (a method that changes the object state), and to drop the () for an\n",
    "accessor method (a method that does not change the object state).\n",
    "You can enforce this style by declaring current without ():"
   ]
  },
  {
   "cell_type": "markdown",
   "metadata": {},
   "source": [
    "```\n",
    "def current = value // No () in defi nition\n",
    "```"
   ]
  },
  {
   "cell_type": "markdown",
   "metadata": {},
   "source": [
    "## 5.2 Properties with Getters and Setters"
   ]
  },
  {
   "cell_type": "markdown",
   "metadata": {},
   "source": [
    "When a field is declared as public, anyone can modify it. To limit this modification we may use getters and setters."
   ]
  },
  {
   "cell_type": "markdown",
   "metadata": {},
   "source": [
    "In other languages like java and C++, user should define getters and setters himself"
   ]
  },
  {
   "cell_type": "code",
   "execution_count": 5,
   "metadata": {},
   "outputs": [
    {
     "data": {
      "text/plain": [
       "defined \u001b[32mclass\u001b[39m \u001b[36mPerson\u001b[39m"
      ]
     },
     "execution_count": 5,
     "metadata": {},
     "output_type": "execute_result"
    }
   ],
   "source": [
    "class Person {\n",
    " var age = 0\n",
    "}"
   ]
  },
  {
   "cell_type": "markdown",
   "metadata": {},
   "source": [
    "Scala generates a class for the JVM with a private age fi eld and getter and setter\n",
    "methods. These methods are public because we did not declare age as private. (For\n",
    "a private fi eld, the getter and setter methods are private.)\n",
    "In Scala, the getter and setter methods are called age and age_=. For example,"
   ]
  },
  {
   "cell_type": "code",
   "execution_count": 6,
   "metadata": {},
   "outputs": [
    {
     "name": "stdout",
     "output_type": "stream",
     "text": [
      "0\n"
     ]
    },
    {
     "data": {
      "text/plain": [
       "\u001b[36mfred\u001b[39m: \u001b[32mPerson\u001b[39m = $sess.cmd4Wrapper$Helper$Person@24389f9c"
      ]
     },
     "execution_count": 6,
     "metadata": {},
     "output_type": "execute_result"
    }
   ],
   "source": [
    "val fred = new Person()\n",
    "println(fred.age) // Calls the method fred.age()\n",
    "fred.age = 21 // Calls fred.age_=(21)"
   ]
  },
  {
   "cell_type": "markdown",
   "metadata": {},
   "source": [
    "At any time, you can redefi ne the getter and setter methods yourself. For example,"
   ]
  },
  {
   "cell_type": "code",
   "execution_count": 7,
   "metadata": {},
   "outputs": [
    {
     "data": {
      "text/plain": [
       "defined \u001b[32mclass\u001b[39m \u001b[36mPerson\u001b[39m"
      ]
     },
     "execution_count": 7,
     "metadata": {},
     "output_type": "execute_result"
    }
   ],
   "source": [
    "class Person {\n",
    " private var privateAge = 0 // Make private and rename\n",
    " def age = privateAge\n",
    " def age_=(newValue: Int) { \n",
    " if (newValue > privateAge) privateAge = newValue; // Can’ t get younger\n",
    " }\n",
    "}"
   ]
  },
  {
   "cell_type": "markdown",
   "metadata": {},
   "source": [
    "The user of your class still accesses fred.age, but now Fred can’ t get younger:"
   ]
  },
  {
   "cell_type": "code",
   "execution_count": 8,
   "metadata": {},
   "outputs": [
    {
     "name": "stdout",
     "output_type": "stream",
     "text": [
      "30\n"
     ]
    },
    {
     "data": {
      "text/plain": [
       "\u001b[36mfred\u001b[39m: \u001b[32mPerson\u001b[39m = $sess.cmd6Wrapper$Helper$Person@1cb77735"
      ]
     },
     "execution_count": 8,
     "metadata": {},
     "output_type": "execute_result"
    }
   ],
   "source": [
    "val fred = new Person\n",
    "fred.age = 30\n",
    "fred.age = 21\n",
    "println(fred.age) // 30"
   ]
  },
  {
   "cell_type": "markdown",
   "metadata": {},
   "source": [
    "## 5.3 Properties with Only Getters"
   ]
  },
  {
   "cell_type": "markdown",
   "metadata": {},
   "source": [
    "Sometimes you want a read-only property with a getter but no setter. If the value\n",
    "of the property never changes after the object has been constructed, use a val\n",
    "field:\n"
   ]
  },
  {
   "cell_type": "code",
   "execution_count": 9,
   "metadata": {},
   "outputs": [
    {
     "name": "stderr",
     "output_type": "stream",
     "text": [
      "cmd9.sc:3: value += is not a member of Int\n",
      "  Expression does not convert to assignment because receiver is not assignable.\n",
      "    def increment() { value += 1 } \n",
      "                            ^"
     ]
    },
    {
     "ename": "",
     "evalue": "",
     "output_type": "error",
     "traceback": [
      "Compilation Failed"
     ]
    }
   ],
   "source": [
    "class Counter { \n",
    "    private val value = 0\n",
    "    def increment() { value += 1 } \n",
    "    def current = value // No () in declaration\n",
    "}"
   ]
  },
  {
   "cell_type": "markdown",
   "metadata": {},
   "source": [
    "above code will throw an error! because we have defined `value` as val and it can't have a setter!"
   ]
  },
  {
   "cell_type": "markdown",
   "metadata": {},
   "source": [
    "To summarize, you have four choices for implementing properties:\n",
    "1. var foo: Scala synthesizes a getter and a setter.\n",
    "2. val foo: Scala synthesizes a getter.\n",
    "3. You definene methods foo and foo_=.\n",
    "4. You define a method foo."
   ]
  },
  {
   "cell_type": "markdown",
   "metadata": {},
   "source": [
    "## 5.4 Object-Private Fields"
   ]
  },
  {
   "cell_type": "markdown",
   "metadata": {},
   "source": [
    "In Scala (as well as in Java or C++), a method can access the private fi elds of all\n",
    "objects of its class. For example,"
   ]
  },
  {
   "cell_type": "code",
   "execution_count": 10,
   "metadata": {},
   "outputs": [
    {
     "data": {
      "text/plain": [
       "defined \u001b[32mclass\u001b[39m \u001b[36mCounter\u001b[39m"
      ]
     },
     "execution_count": 10,
     "metadata": {},
     "output_type": "execute_result"
    }
   ],
   "source": [
    "class Counter {\n",
    " private var value = 0\n",
    " def increment() { value += 1 }\n",
    " def isLess(other : Counter) = value < other.value \n",
    " // Can access private fi eld of other object\n",
    "}"
   ]
  },
  {
   "cell_type": "markdown",
   "metadata": {},
   "source": [
    "Accessing other.value is legal because other is also a Counter object.\n",
    "Scala allows an even more severe access restriction with the private[this] qualifi er:"
   ]
  },
  {
   "cell_type": "code",
   "execution_count": 10,
   "metadata": {},
   "outputs": [
    {
     "name": "stderr",
     "output_type": "stream",
     "text": [
      "cmd10.sc:94: value value is not a member of $sess.cmd10.wrapper.Helper\n",
      "            .print(wrapper.wrapper.value, wrapper.wrapper.value, \"value\", _root_.scala.None)\n",
      "                                   ^cmd10.sc:94: value value is not a member of $sess.cmd10.wrapper.Helper\n",
      "            .print(wrapper.wrapper.value, wrapper.wrapper.value, \"value\", _root_.scala.None)\n",
      "                                                          ^"
     ]
    },
    {
     "ename": "",
     "evalue": "",
     "output_type": "error",
     "traceback": [
      "Compilation Failed"
     ]
    }
   ],
   "source": [
    "private[this] var value = 0 // Accessing someObject.value is not allowed"
   ]
  },
  {
   "cell_type": "markdown",
   "metadata": {},
   "source": [
    "Now, the methods of the Counter class can only access the value fi eld of the current\n",
    "object, not of other objects of type Counter. This access is sometimes called\n",
    "object-private, and it is common in some OO languages such as SmallTalk.\n",
    "With a class-private fi eld, Scala generates private getter and setter methods.\n",
    "However, for an object-private fi eld, no getters and setters are generated at all."
   ]
  },
  {
   "cell_type": "markdown",
   "metadata": {},
   "source": [
    "## 5.6 Auxiliary Constructors"
   ]
  },
  {
   "cell_type": "markdown",
   "metadata": {},
   "source": [
    "As in Java or C++, a Scala class can have as many constructors as you like.\n",
    "However, a Scala class has one constructor that is more important than all the\n",
    "others, called the primary constructor. In addition, a class may have any number\n",
    "of auxiliary constructors.\n",
    "We discuss auxiliary constructors fi rst because they are easier to understand.\n",
    "They are similar to constructors in Java or C++, with just two differences.\n",
    "1. The auxiliary constructors are called this. (In Java or C++, constructors have\n",
    "the same name as the class— which is not so convenient if you rename the\n",
    "class.)\n",
    "2. Each auxiliary constructor must start with a call to a previously defi ned\n",
    "auxiliary constructor or the primary constructor.\n",
    "Here is a class with two auxiliary constructors:"
   ]
  },
  {
   "cell_type": "code",
   "execution_count": 11,
   "metadata": {},
   "outputs": [
    {
     "data": {
      "text/plain": [
       "defined \u001b[32mclass\u001b[39m \u001b[36mPerson\u001b[39m"
      ]
     },
     "execution_count": 11,
     "metadata": {},
     "output_type": "execute_result"
    }
   ],
   "source": [
    "class Person {\n",
    " private var name = \"\"\n",
    " private var age = 0\n",
    " def this(name: String) { // An auxiliary constructor\n",
    " this() // Calls primary constructor\n",
    " this.name = name \n",
    " }\n",
    " def this(name: String, age: Int) { // Another auxiliary constructor\n",
    " this(name) // Calls previous auxiliary constructor\n",
    " this.age = age \n",
    " }\n",
    "}"
   ]
  },
  {
   "cell_type": "markdown",
   "metadata": {},
   "source": [
    "We will look at the primary constructor in the next section. For now, it is suffi cient\n",
    "to know that a class for which you don’ t defi ne a primary constructor has a\n",
    "primary constructor with no arguments.\n",
    "You can construct objects of this class in three ways:\n"
   ]
  },
  {
   "cell_type": "code",
   "execution_count": 12,
   "metadata": {},
   "outputs": [
    {
     "data": {
      "text/plain": [
       "\u001b[36mp1\u001b[39m: \u001b[32mPerson\u001b[39m = $sess.cmd10Wrapper$Helper$Person@71b29c32\n",
       "\u001b[36mp2\u001b[39m: \u001b[32mPerson\u001b[39m = $sess.cmd10Wrapper$Helper$Person@5b6779af\n",
       "\u001b[36mp3\u001b[39m: \u001b[32mPerson\u001b[39m = $sess.cmd10Wrapper$Helper$Person@6d78cbaf"
      ]
     },
     "execution_count": 12,
     "metadata": {},
     "output_type": "execute_result"
    }
   ],
   "source": [
    "val p1 = new Person // Primary constructor\n",
    "val p2 = new Person(\"Fred\") // First auxiliary constructor\n",
    "val p3 = new Person(\"Fred\", 42) // Second auxiliary constructor"
   ]
  },
  {
   "cell_type": "markdown",
   "metadata": {},
   "source": [
    "## 5.7 The Primary Constructor"
   ]
  },
  {
   "cell_type": "markdown",
   "metadata": {},
   "source": [
    "In Scala, every class has a primary constructor. The primary constructor is not\n",
    "defi ned with a this method. Instead, it is interwoven with the class defi nition.\n"
   ]
  },
  {
   "cell_type": "code",
   "execution_count": 13,
   "metadata": {},
   "outputs": [
    {
     "data": {
      "text/plain": [
       "defined \u001b[32mclass\u001b[39m \u001b[36mPerson\u001b[39m"
      ]
     },
     "execution_count": 13,
     "metadata": {},
     "output_type": "execute_result"
    }
   ],
   "source": [
    "class Person(val name: String, val age: Int) { \n",
    " // Parameters of primary constructor in (...)\n",
    "}"
   ]
  },
  {
   "cell_type": "markdown",
   "metadata": {},
   "source": [
    "Parameters of the primary constructor turn into fi elds that are initialized with\n",
    "the construction parameters. In our example, name and age become fi elds of the\n",
    "Person class. "
   ]
  },
  {
   "cell_type": "markdown",
   "metadata": {},
   "source": [
    "TIP: You can often eliminate auxiliary constructors by using default arguments\n",
    "in the primary constructor. For example:"
   ]
  },
  {
   "cell_type": "code",
   "execution_count": 14,
   "metadata": {},
   "outputs": [
    {
     "data": {
      "text/plain": [
       "defined \u001b[32mclass\u001b[39m \u001b[36mPerson\u001b[39m"
      ]
     },
     "execution_count": 14,
     "metadata": {},
     "output_type": "execute_result"
    }
   ],
   "source": [
    "class Person(val name: String = \"\", val age: Int = 0){}"
   ]
  },
  {
   "cell_type": "code",
   "execution_count": null,
   "metadata": {},
   "outputs": [],
   "source": []
  }
 ],
 "metadata": {
  "kernelspec": {
   "display_name": "Scala",
   "language": "scala",
   "name": "scala"
  },
  "language_info": {
   "codemirror_mode": "text/x-scala",
   "file_extension": ".scala",
   "mimetype": "text/x-scala",
   "name": "scala211",
   "nbconvert_exporter": "script",
   "pygments_lexer": "scala",
   "version": "2.11.11"
  }
 },
 "nbformat": 4,
 "nbformat_minor": 2
}
