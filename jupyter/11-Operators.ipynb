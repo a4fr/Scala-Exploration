{
 "cells": [
  {
   "cell_type": "markdown",
   "metadata": {},
   "source": [
    "# 11. Operators"
   ]
  },
  {
   "cell_type": "markdown",
   "metadata": {},
   "source": [
    "This chapter covers in detail implementing your own operators— methods with ptg20087099\n",
    "the same syntax as the familiar mathematical operators. Operators are often used\n",
    "to build domain-specifi c languages— minilanguages embedded inside Scala. Implicit\n",
    "conversions (type conversion functions that are applied automatically) are another\n",
    "tool facilitating the creation of domain-specifi c languages. This chapter also dis-\n",
    "cusses the special methods apply, update, and unapply. We end the chapter with a\n",
    "discussion of dynamic invocations— method calls that can be intercepted at runtime,\n",
    "so that arbitrary actions can occur depending on the method names and\n",
    "arguments."
   ]
  },
  {
   "cell_type": "markdown",
   "metadata": {},
   "source": [
    "## 11.1 Identifiers"
   ]
  },
  {
   "cell_type": "markdown",
   "metadata": {},
   "source": [
    "The names of variables, functions, classes, and so on are collectively called iden-\n",
    "tifi ers. In Scala, you have more choices for forming identifi ers than in Java. Of\n",
    "course, you can follow the time-honored pattern: sequences of alphanumeric\n",
    "characters, starting with an alphabetic character or an underscore, such as input1\n",
    "or next_token.\n",
    "As in Java, Unicode characters are allowed. For example, quantité or posó are valid\n",
    "identifi ers.\n",
    "In addition, you can use operator characters in identifi ers:\n",
    "\n",
    "• The ASCII characters ! # % & * + - / : < = > ? @ \\ ^ | ~ that are not letters,\n",
    "digits, underscore, the .,; punctuation marks, parentheses () [] {}, or quotation\n",
    "marks ' \\` \".\n",
    "\n",
    "• Unicode mathematical symbols or other symbols from the Unicode categories\n",
    "Sm and So.\n",
    "For example, ** and ÷ are valid identifi ers. With the defi nition\n",
    "val ÷ = scala.math.sqrt _\n",
    "you can write ÷ (2) to compute a square root. This may be a good idea, provided\n",
    "one’ s programming environment makes it easy to type the symbol."
   ]
  },
  {
   "cell_type": "markdown",
   "metadata": {},
   "source": [
    "You can also form identifi ers from alphanumerical characters, followed by an\n",
    "underscore, and then a sequence of operator characters, such as\n",
    "val happy_birthday_!!! = \"Bonne anniversaire!!!\"\n",
    "This is probably not a good idea.\n",
    "Finally, you can include just about any sequence of characters in backquotes. For\n",
    "example,\n",
    "val `val` = 42\n",
    "That example is silly, but backquotes can sometimes be an “ escape hatch.” For\n",
    "example, in Scala, yield is a reserved word, but you may need to access a Java\n",
    "method of the same name. Backquotes to the rescue: Thread.`yield`()."
   ]
  },
  {
   "cell_type": "markdown",
   "metadata": {},
   "source": [
    "## 11.2 Infix Operators"
   ]
  },
  {
   "cell_type": "markdown",
   "metadata": {},
   "source": [
    "You can write\n",
    "\n",
    "`a identifier b`\n",
    "\n",
    "where identifier denotes a method with two parameters (one implicit, one explicit).\n",
    "For example, the expression\n",
    "\n",
    "`1 to 10`\n",
    "\n",
    "is actually a method call\n",
    "\n",
    "`1.to(10)`\n",
    "\n",
    "This is called an infi x expression because the operator is between the arguments.\n",
    "The operator can contain letters, as in to, or it can contain operator characters— for\n",
    "example,\n",
    "\n",
    "`1 -> 10`\n",
    "\n",
    "is a method call\n",
    "\n",
    "`1 .->(10)`\n",
    "\n",
    "To define an operator in your own class, simply defi ne a method whose name is\n",
    "that of the desired operator. For example, here is a Fraction class that multiplies\n",
    "two fractions according to the law\n",
    "\n",
    "`( n 1 / d 1 ) × (n 2 / d 2 ) = (n 1 n 2 / d 1 d 2 )`"
   ]
  },
  {
   "cell_type": "code",
   "execution_count": 1,
   "metadata": {},
   "outputs": [
    {
     "data": {
      "text/plain": [
       "defined \u001b[32mclass\u001b[39m \u001b[36mFraction\u001b[39m"
      ]
     },
     "execution_count": 1,
     "metadata": {},
     "output_type": "execute_result"
    }
   ],
   "source": [
    "class Fraction(n: Int, d: Int) {\n",
    " private val num = n\n",
    "    private val den = d\n",
    " //...\n",
    " def *(other: Fraction) = new Fraction(num * other.num, den * other.den)\n",
    "}"
   ]
  },
  {
   "cell_type": "markdown",
   "metadata": {},
   "source": [
    "## 11.3 Unary Operators"
   ]
  },
  {
   "cell_type": "markdown",
   "metadata": {},
   "source": [
    "Infi x operators are binary operators— they have two parameters. An operator\n",
    "with one parameter is called a unary operator.\n",
    "The four operators + , - , ! , ~ are allowed as prefi x operators, appearing before their\n",
    "arguments. They are converted into calls to methods with the name unary_operator.\n",
    "For example,\n",
    "\n",
    "`-a`\n",
    "\n",
    "means the same as a.unary_-.\n",
    "If a unary operator follows its argument, it is a postfi x operator. The expression\n",
    "\n",
    "`a identifier`\n",
    "\n",
    "is the same as the method call a.identifier(). For example,\n",
    "\n",
    "`42 toString`\n",
    "\n",
    "is the same as\n",
    "\n",
    "`42.toString()`"
   ]
  },
  {
   "cell_type": "markdown",
   "metadata": {},
   "source": [
    "## 11.4 Assignment Operators"
   ]
  },
  {
   "cell_type": "markdown",
   "metadata": {},
   "source": [
    "An assignment operator has the form operator= , and the expression\n",
    "\n",
    "`a operator= b`\n",
    "\n",
    "means the same as\n",
    "\n",
    "`a = a operator b`\n",
    "\n",
    "For example, a += b is equivalent to a = a + b.\n",
    "\n",
    "There are a few technical details.\n",
    "\n",
    "• <=, >=, and != are not assignment operators.\n",
    "\n",
    "• An operator starting with an = is never an assignment operator (==, ===, =/=,\n",
    "and so on).\n",
    "\n",
    "• If a has a method called operator= , then that method is called directly"
   ]
  },
  {
   "cell_type": "markdown",
   "metadata": {},
   "source": [
    "## 11.7 The apply and update Methods"
   ]
  },
  {
   "cell_type": "markdown",
   "metadata": {},
   "source": [
    "Scala lets you extend the function call syntax\n",
    "\n",
    "`f(arg1, arg2, ...)`\n",
    "\n",
    "to values other than functions. If f is not a function or method, then this expression\n",
    "is equivalent to the call\n",
    "\n",
    "`f.apply(arg1, arg2, ...)`\n",
    "\n",
    "unless it occurs to the left of an assignment. The expression\n",
    "\n",
    "`f(arg1, arg2, ...) = value`\n",
    "\n",
    "corresponds to the call\n",
    "\n",
    "`f.update(arg1, arg2, ..., value)`\n",
    "\n",
    "This mechanism is used in arrays and maps. For example,"
   ]
  },
  {
   "cell_type": "code",
   "execution_count": 2,
   "metadata": {},
   "outputs": [
    {
     "data": {
      "text/plain": [
       "\u001b[36mscores\u001b[39m: \u001b[32mcollection\u001b[39m.\u001b[32mmutable\u001b[39m.\u001b[32mHashMap\u001b[39m[\u001b[32mString\u001b[39m, \u001b[32mInt\u001b[39m] = \u001b[33mMap\u001b[39m(\u001b[32m\"Bob\"\u001b[39m -> \u001b[32m100\u001b[39m)\n",
       "\u001b[36mbobsScore\u001b[39m: \u001b[32mInt\u001b[39m = \u001b[32m100\u001b[39m"
      ]
     },
     "execution_count": 2,
     "metadata": {},
     "output_type": "execute_result"
    }
   ],
   "source": [
    "val scores = new scala.collection.mutable.HashMap[String, Int]\n",
    "scores(\"Bob\") = 100 // Calls scores.update(\"Bob\", 100)\n",
    "val bobsScore = scores(\"Bob\") // Calls scores.apply(\"Bob\")"
   ]
  },
  {
   "cell_type": "markdown",
   "metadata": {},
   "source": [
    "The apply method is also commonly used in companion objects to construct objects\n",
    "without calling new. For example, consider a Fraction class.\n"
   ]
  },
  {
   "cell_type": "code",
   "execution_count": 3,
   "metadata": {},
   "outputs": [
    {
     "data": {
      "text/plain": [
       "defined \u001b[32mclass\u001b[39m \u001b[36mFraction\u001b[39m\n",
       "defined \u001b[32mobject\u001b[39m \u001b[36mFraction\u001b[39m"
      ]
     },
     "execution_count": 3,
     "metadata": {},
     "output_type": "execute_result"
    }
   ],
   "source": [
    "class Fraction(n: Int, d: Int) {\n",
    " //...\n",
    "}\n",
    "object Fraction {\n",
    " def apply(n: Int, d: Int) = new Fraction(n, d) \n",
    "}"
   ]
  },
  {
   "cell_type": "markdown",
   "metadata": {},
   "source": [
    "Because of the apply method, we can construct a fraction as Fraction(3, 4) instead\n",
    "of new Fraction(3, 4). That sounds like a small thing, but if you have many Fraction\n",
    "values, it is a welcome improvement:\n"
   ]
  },
  {
   "cell_type": "code",
   "execution_count": 3,
   "metadata": {},
   "outputs": [
    {
     "name": "stderr",
     "output_type": "stream",
     "text": [
      "cmd3.sc:1: value * is not a member of cmd3Wrapper.this.cmd2.wrapper.Fraction\n",
      "val result = Fraction(3, 4) * Fraction(2, 5)\n",
      "                            ^"
     ]
    },
    {
     "ename": "",
     "evalue": "",
     "execution_count": 3,
     "output_type": "error",
     "status": "error",
     "traceback": [
      "Compilation Failed"
     ]
    }
   ],
   "source": [
    "val result = Fraction(3, 4) * Fraction(2, 5)"
   ]
  },
  {
   "cell_type": "code",
   "execution_count": null,
   "metadata": {},
   "outputs": [],
   "source": []
  }
 ],
 "metadata": {
  "kernelspec": {
   "display_name": "Scala",
   "language": "scala",
   "name": "scala"
  },
  "language_info": {
   "codemirror_mode": "text/x-scala",
   "file_extension": ".scala",
   "mimetype": "text/x-scala",
   "name": "scala211",
   "nbconvert_exporter": "script",
   "pygments_lexer": "scala",
   "version": "2.11.11"
  }
 },
 "nbformat": 4,
 "nbformat_minor": 2
}
