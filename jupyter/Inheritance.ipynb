{
 "cells": [
  {
   "cell_type": "markdown",
   "metadata": {},
   "source": [
    "# 8. Inheritance"
   ]
  },
  {
   "cell_type": "markdown",
   "metadata": {},
   "source": [
    "## 8.1 Extending a Class"
   ]
  },
  {
   "cell_type": "markdown",
   "metadata": {},
   "source": [
    "You extend a class in Scala just like you would in Java— with the extends keyword:"
   ]
  },
  {
   "cell_type": "code",
   "execution_count": 4,
   "metadata": {},
   "outputs": [
    {
     "data": {
      "text/plain": [
       "defined \u001b[32mclass\u001b[39m \u001b[36mPerson\u001b[39m"
      ]
     },
     "execution_count": 4,
     "metadata": {},
     "output_type": "execute_result"
    }
   ],
   "source": [
    "class Person {\n",
    " private var privateAge = 0 // Make private and rename\n",
    " def age = privateAge\n",
    " def greeting() :Unit = {println(\"HelloWorld\")}\n",
    "}"
   ]
  },
  {
   "cell_type": "code",
   "execution_count": 5,
   "metadata": {},
   "outputs": [
    {
     "data": {
      "text/plain": [
       "defined \u001b[32mclass\u001b[39m \u001b[36mEmployee\u001b[39m"
      ]
     },
     "execution_count": 5,
     "metadata": {},
     "output_type": "execute_result"
    }
   ],
   "source": [
    "class Employee extends Person {\n",
    " var salary = 0.0\n",
    " //...\n",
    "}"
   ]
  },
  {
   "cell_type": "markdown",
   "metadata": {},
   "source": [
    "As in Java, you specify fields and methods that are new to the subclass or that\n",
    "override methods in the superclass."
   ]
  },
  {
   "cell_type": "markdown",
   "metadata": {},
   "source": [
    "As in Java, you can declare a class final so that it cannot be extended. You can\n",
    "also declare individual methods or fi elds final so that they cannot be overridden.\n",
    "(See Section 8.6, “ Overriding Fields,” on page 95 for overriding fi elds.) Note that\n",
    "this is different from Java, where a final fi eld is immutable, similar to val in Scala.\n"
   ]
  },
  {
   "cell_type": "markdown",
   "metadata": {},
   "source": [
    "## 8.2 Overriding Methods\n"
   ]
  },
  {
   "cell_type": "markdown",
   "metadata": {},
   "source": [
    "In Scala, you must use the override modifi er when you override a method that\n",
    "isn’ t abstract. (See Section 8.8, “ Abstract Classes,” on page 97 for abstract\n",
    "methods.) For example,"
   ]
  },
  {
   "cell_type": "code",
   "execution_count": 7,
   "metadata": {},
   "outputs": [
    {
     "data": {
      "text/plain": [
       "defined \u001b[32mclass\u001b[39m \u001b[36mEmployee\u001b[39m"
      ]
     },
     "execution_count": 7,
     "metadata": {},
     "output_type": "execute_result"
    }
   ],
   "source": [
    "class Employee extends Person {\n",
    " var salary = 0.0\n",
    " override def greeting() :Unit = {println(\"Hello Hamed\")}\n",
    " //...\n",
    "}"
   ]
  },
  {
   "cell_type": "code",
   "execution_count": 8,
   "metadata": {},
   "outputs": [
    {
     "name": "stdout",
     "output_type": "stream",
     "text": [
      "HelloWorld\n",
      "Hello Hamed!\n"
     ]
    },
    {
     "data": {
      "text/plain": [
       "\u001b[36mperson\u001b[39m: \u001b[32mPerson\u001b[39m = $sess.cmd3Wrapper$Helper$Person@1fc63182\n",
       "\u001b[36memployee\u001b[39m: \u001b[32mEmployee\u001b[39m = $sess.cmd6Wrapper$Helper$Employee@110e9efe"
      ]
     },
     "execution_count": 8,
     "metadata": {},
     "output_type": "execute_result"
    }
   ],
   "source": [
    "val person = new Person()\n",
    "person.greeting()\n",
    "val employee = new Employee()\n",
    "employee.greeting()"
   ]
  },
  {
   "cell_type": "markdown",
   "metadata": {},
   "source": [
    "The override modifi er can give useful error messages in a number of common\n",
    "situations, such as:\n",
    "\n",
    "• When you misspell the name of the method that you are overriding\n",
    "\n",
    "• When you accidentally provide a wrong parameter type in the overriding\n",
    "method\n",
    "\n",
    "• When you introduce a new method in a superclass that clashes with a subclass\n",
    "method"
   ]
  },
  {
   "cell_type": "markdown",
   "metadata": {},
   "source": [
    "Invoking a superclass method in Scala works exactly like in Java, with the\n",
    "keyword super:\n"
   ]
  },
  {
   "cell_type": "code",
   "execution_count": 8,
   "metadata": {},
   "outputs": [
    {
     "name": "stdout",
     "output_type": "stream",
     "text": [
      "HelloWorld\n",
      "()Hello Hamed!\n"
     ]
    },
    {
     "data": {
      "text/plain": [
       "defined \u001b[32mclass\u001b[39m \u001b[36mEmployee\u001b[39m\n",
       "\u001b[36memployee\u001b[39m: \u001b[32mwrapper\u001b[39m.\u001b[32mwrapper\u001b[39m.\u001b[32mEmployee\u001b[39m = $sess.cmd7Wrapper$Helper$Employee@1d1218ac"
      ]
     },
     "execution_count": 8,
     "metadata": {},
     "output_type": "execute_result"
    }
   ],
   "source": [
    "class Employee extends Person {\n",
    " var salary = 0.0\n",
    " override def greeting() = {println(s\"${super.greeting}Hello Hamed!\")}\n",
    " //...\n",
    "}\n",
    "\n",
    "val employee = new Employee()\n",
    "employee.greeting()"
   ]
  },
  {
   "cell_type": "markdown",
   "metadata": {},
   "source": [
    "## 8.3 Type Checks and Casts"
   ]
  },
  {
   "cell_type": "markdown",
   "metadata": {},
   "source": [
    "To test whether an object belongs to a given class, use the isInstanceOf method. If\n",
    "the test succeeds, you can use the asInstanceOf method to convert a reference to a\n",
    "subclass reference:\n"
   ]
  },
  {
   "cell_type": "code",
   "execution_count": 20,
   "metadata": {},
   "outputs": [
    {
     "name": "stdout",
     "output_type": "stream",
     "text": [
      "hi\n"
     ]
    },
    {
     "data": {
      "text/plain": [
       "\u001b[36mq\u001b[39m: \u001b[32mEmployee\u001b[39m = $sess.cmd7Wrapper$Helper$Employee@6acf1171\n",
       "defined \u001b[32mclass\u001b[39m \u001b[36mhamed\u001b[39m\n",
       "\u001b[36mp\u001b[39m: \u001b[32mEmployee\u001b[39m = $sess.cmd7Wrapper$Helper$Employee@3f7f0ccf"
      ]
     },
     "execution_count": 20,
     "metadata": {},
     "output_type": "execute_result"
    }
   ],
   "source": [
    "val p = new Employee\n",
    "if (p.isInstanceOf[Employee]) {\n",
    "    val s = p.asInstanceOf[Employee] // s has type Employee\n",
    "}"
   ]
  },
  {
   "cell_type": "markdown",
   "metadata": {},
   "source": [
    "its subclass (such as Manager).\n",
    "If p is null, then p.isInstanceOf[Employee] returns false and p.asInstanceOf[Employee]\n",
    "returns null.\n",
    "If p is not an Employee, then p.asInstanceOf[Employee] throws an exception.\n",
    "If you want to test whether p refers to an Employee object, but not a subclass, use"
   ]
  },
  {
   "cell_type": "code",
   "execution_count": 22,
   "metadata": {},
   "outputs": [
    {
     "name": "stdout",
     "output_type": "stream",
     "text": [
      "Employee class\n"
     ]
    }
   ],
   "source": [
    "if (p.getClass == classOf[Employee])\n",
    " println(\"Employee class\")"
   ]
  },
  {
   "cell_type": "markdown",
   "metadata": {},
   "source": [
    "The classOf method is defi ned in the scala.Predef object that is always imported."
   ]
  },
  {
   "cell_type": "markdown",
   "metadata": {},
   "source": [
    "However, pattern matching is usually a better alternative to using type checks\n",
    "and casts. For example,\n"
   ]
  },
  {
   "cell_type": "code",
   "execution_count": 24,
   "metadata": {},
   "outputs": [
    {
     "ename": "",
     "evalue": "",
     "execution_count": 24,
     "output_type": "error",
     "status": "error",
     "traceback": [
      "SyntaxError: found \"... // Process s as \", expected \";\" | Newline.rep(1) | \"}\" | `case` at index 31",
      "case s: Employee => ... // Process s as ",
      "                    ^"
     ]
    }
   ],
   "source": [
    "p match {\n",
    " case s: Employee => ... // Process s as an Employee\n",
    " case _ => ... // p wasn’ t an Employee\n",
    "}"
   ]
  },
  {
   "cell_type": "markdown",
   "metadata": {},
   "source": [
    "## 8.4 Protected Fields and Methods"
   ]
  },
  {
   "cell_type": "markdown",
   "metadata": {},
   "source": [
    "As in Java or C++, you can declare a fi eld or method as protected. Such a member\n",
    "is accessible from any subclass, but not from other locations.\n",
    "Unlike in Java, a protected member is not visible throughout the package to which\n",
    "the class belongs. (If you want this visibility, you can use a package modifi er— see\n",
    "Chapter 7.)\n",
    "There is also a protected[this] variant that restricts access to the current object,\n",
    "similar to the private[this] variant discussed in Chapter 5.\n"
   ]
  },
  {
   "cell_type": "markdown",
   "metadata": {},
   "source": [
    "Recall from Chapter 5 that a class has one primary constructor and any number\n",
    "of auxiliary constructors, and that all auxiliary constructors must start with a call\n",
    "to a preceding auxiliary constructor or the primary constructor.\n",
    "As a consequence, an auxiliary constructor can never invoke a superclass\n",
    "constructor directly.\n",
    "The auxiliary constructors of the subclass eventually call the primary constructor\n",
    "of the subclass. Only the primary constructor can call a superclass constructor.\n",
    "Recall that the primary constructor is intertwined with the class defi nition. The\n",
    "call to the superclass constructor is similarly intertwined. Here is an example:"
   ]
  },
  {
   "cell_type": "markdown",
   "metadata": {},
   "source": [
    "`class Employee(name: String, age: Int, val salary : Double) extends\n",
    " Person(name, age)\n",
    "`\n",
    "This defines a subclass\n",
    "\n",
    "`class Employee(name: String, age: Int, val salary : Double) extends \n",
    " Person(name, age)\n",
    "`\n",
    "\n",
    "and a primary constructor that calls the superclass constructor\n",
    "\n",
    "`class Employee(name: String, age: Int, val salary : Double) extends\n",
    " Person(name, age)\n",
    "`"
   ]
  },
  {
   "cell_type": "markdown",
   "metadata": {},
   "source": [
    "Intertwining the class and the constructor makes for very concise code. You may\n",
    "fi nd it helpful to think of the primary constructor parameters as parameters of the class. Here, the Employee class has three parameters: name, age, and salary, two\n",
    "of which it “ passes” to the superclass. In Java, the equivalent code is quite a bit more verbose:\n"
   ]
  },
  {
   "cell_type": "code",
   "execution_count": null,
   "metadata": {},
   "outputs": [],
   "source": [
    "public class Employee extends Person { // Java\n",
    " private double salary;\n",
    " public Employee(String name, int age, double salary) {\n",
    " super(name, age);\n",
    " this.salary = salary;\n",
    " }\n",
    "}"
   ]
  },
  {
   "cell_type": "markdown",
   "metadata": {},
   "source": [
    "NOTE: In a Scala constructor, you can never call super(params), as you would\n",
    "in Java, to call the superclass constructor."
   ]
  },
  {
   "cell_type": "markdown",
   "metadata": {},
   "source": [
    "A Scala class can extend a Java class. Its primary constructor must invoke one of\n",
    "the constructors of the Java superclass. For example,\n"
   ]
  },
  {
   "cell_type": "code",
   "execution_count": 24,
   "metadata": {},
   "outputs": [
    {
     "name": "stderr",
     "output_type": "stream",
     "text": [
      "cmd24.sc:1: not found: type Path\n",
      "class PathWriter(p: Path, cs: Charset) extends\n",
      "                    ^cmd24.sc:1: not found: type Charset\n",
      "class PathWriter(p: Path, cs: Charset) extends\n",
      "                              ^cmd24.sc:2: not found: value Files\n",
      " java.io.PrintWriter(Files.newBufferedWriter(p, cs))\n",
      "                     ^"
     ]
    },
    {
     "ename": "",
     "evalue": "",
     "execution_count": 24,
     "output_type": "error",
     "status": "error",
     "traceback": [
      "Compilation Failed"
     ]
    }
   ],
   "source": [
    "class PathWriter(p: Path, cs: Charset) extends\n",
    " java.io.PrintWriter(Files.newBufferedWriter(p, cs))"
   ]
  },
  {
   "cell_type": "markdown",
   "metadata": {},
   "source": [
    "## 8.6 Overriding Fields"
   ]
  },
  {
   "cell_type": "markdown",
   "metadata": {},
   "source": [
    "Recall from Chapter 5 that a fi eld in Scala consists of a private fi eld and accessor/mutator methods. You can override a val (or a parameterless def) with another\n",
    "val fi eld of the same name. The subclass has a private fi eld and a public getter,\n",
    "and the getter overrides the superclass getter (or method).\n",
    "For example,\n"
   ]
  },
  {
   "cell_type": "code",
   "execution_count": 38,
   "metadata": {},
   "outputs": [
    {
     "data": {
      "text/plain": [
       "defined \u001b[32mclass\u001b[39m \u001b[36mPerson\u001b[39m\n",
       "defined \u001b[32mclass\u001b[39m \u001b[36mSecretAgent\u001b[39m"
      ]
     },
     "execution_count": 38,
     "metadata": {},
     "output_type": "execute_result"
    }
   ],
   "source": [
    "class Person(val name: String) {\n",
    "  def greeting :String = {\n",
    "      println(s\"Hello ${name}\")\n",
    "      s\"name: ${name}\"\n",
    "    }\n",
    "}\n",
    "\n",
    "class SecretAgent(val codename: String) extends Person(codename) {\n",
    "override val name = \"secret\" // Don’ t want to reveal name . . . \n",
    "override val greeting = \"secret\" // . . . or class name\n",
    "} \n"
   ]
  },
  {
   "cell_type": "code",
   "execution_count": 40,
   "metadata": {},
   "outputs": [
    {
     "name": "stdout",
     "output_type": "stream",
     "text": [
      "Hamed\n",
      "Hello Hamed\n",
      "name: Hamed\n",
      "secret\n",
      "743\n",
      "secret\n"
     ]
    },
    {
     "data": {
      "text/plain": [
       "\u001b[36mperson\u001b[39m: \u001b[32mPerson\u001b[39m = $sess.cmd37Wrapper$Helper$Person@15b7d73c\n",
       "\u001b[36magent\u001b[39m: \u001b[32mSecretAgent\u001b[39m = $sess.cmd37Wrapper$Helper$SecretAgent@1e017478"
      ]
     },
     "execution_count": 40,
     "metadata": {},
     "output_type": "execute_result"
    }
   ],
   "source": [
    "val person = new Person(\"Hamed\")\n",
    "println(person.name)\n",
    "println(person.greeting)\n",
    "val agent = new SecretAgent(\"743\")\n",
    "println(agent.name)\n",
    "println(agent.codename)\n",
    "println(agent.greeting)"
   ]
  },
  {
   "cell_type": "markdown",
   "metadata": {},
   "source": [
    "This example shows the mechanics, but it is rather artifi cial. A more common\n",
    "case is to override an abstract def with a val, like this:\n",
    "\n"
   ]
  },
  {
   "cell_type": "code",
   "execution_count": 42,
   "metadata": {},
   "outputs": [
    {
     "data": {
      "text/plain": [
       "defined \u001b[32mclass\u001b[39m \u001b[36mPerson\u001b[39m\n",
       "defined \u001b[32mclass\u001b[39m \u001b[36mStudent\u001b[39m"
      ]
     },
     "execution_count": 42,
     "metadata": {},
     "output_type": "execute_result"
    }
   ],
   "source": [
    "abstract class Person { // See Section 8.8 for abstract classes\n",
    " def id: Int // Each person has an ID that is computed in some way\n",
    " //...\n",
    "}\n",
    "\n",
    "class Student(override val id: Int) extends Person\n",
    " // A student ID is simply provided in the constructor"
   ]
  },
  {
   "cell_type": "markdown",
   "metadata": {},
   "source": [
    "Note the following restrictions (see also Table 8– 2 ):\n",
    "\n",
    "• A def can only override another def.\n",
    "\n",
    "• A val can only override another val or a parameterless def.\n",
    "\n",
    "• A var can only override an abstract var (see Section 8.8, “ Abstract Classes,”\n",
    "on page 97).\n"
   ]
  },
  {
   "cell_type": "markdown",
   "metadata": {},
   "source": [
    "## 8.7 Anonymous Subclasses\n"
   ]
  },
  {
   "cell_type": "markdown",
   "metadata": {},
   "source": [
    "As in Java, you make an instance of an anonymous subclass if you include a block\n",
    "with defi nitions or overrides, such as"
   ]
  },
  {
   "cell_type": "code",
   "execution_count": 43,
   "metadata": {},
   "outputs": [
    {
     "data": {
      "text/plain": [
       "defined \u001b[32mclass\u001b[39m \u001b[36mPerson\u001b[39m\n",
       "\u001b[36malien\u001b[39m: \u001b[32mwrapper\u001b[39m.\u001b[32mwrapper\u001b[39m.\u001b[32mPerson\u001b[39m{def hello: String} = $sess.cmd42Wrapper$Helper$$anon$1@50caa735"
      ]
     },
     "execution_count": 43,
     "metadata": {},
     "output_type": "execute_result"
    }
   ],
   "source": [
    "class Person(val name: String) {\n",
    "  def greeting :String = {\n",
    "      println(s\"Hello ${name}\")\n",
    "      s\"name: ${name}\"\n",
    "    }\n",
    "}\n",
    "\n",
    "val alien = new Person(\"Fred\") {\n",
    " def hello = \"Hi, Earthling! My name is Fred.\"\n",
    "}"
   ]
  },
  {
   "cell_type": "markdown",
   "metadata": {},
   "source": [
    "Technically, this creates an object of a structural type— see Chapter 19 for details.\n",
    "The type is denoted as Person{def greeting: String}. You can use this type as a\n",
    "parameter type:"
   ]
  },
  {
   "cell_type": "code",
   "execution_count": 44,
   "metadata": {},
   "outputs": [
    {
     "data": {
      "text/plain": [
       "defined \u001b[32mfunction\u001b[39m \u001b[36mmeet\u001b[39m"
      ]
     },
     "execution_count": 44,
     "metadata": {},
     "output_type": "execute_result"
    }
   ],
   "source": [
    "def meet(p: Person{def greeting: String}) {\n",
    " println(s\"${p.name} says: ${p.greeting}\")\n",
    "}"
   ]
  },
  {
   "cell_type": "markdown",
   "metadata": {},
   "source": [
    "## 8.8 Abstract Classes\n"
   ]
  },
  {
   "cell_type": "markdown",
   "metadata": {},
   "source": [
    "As in Java, you can use the abstract keyword to denote a class that cannot be in-\n",
    "stantiated, usually because one or more of its methods are not defi ned.\n",
    "For example,"
   ]
  },
  {
   "cell_type": "code",
   "execution_count": 45,
   "metadata": {},
   "outputs": [
    {
     "data": {
      "text/plain": [
       "defined \u001b[32mclass\u001b[39m \u001b[36mPerson\u001b[39m"
      ]
     },
     "execution_count": 45,
     "metadata": {},
     "output_type": "execute_result"
    }
   ],
   "source": [
    "abstract class Person(val name: String) {\n",
    " def id: Int // No method body— this is an abstract method\n",
    " }"
   ]
  },
  {
   "cell_type": "markdown",
   "metadata": {},
   "source": [
    "Here we say that every person has an ID, but we don’ t know how to compute it.\n",
    "Each concrete subclass of Person needs to specify an id method. In Scala, unlike\n",
    "Java, you do not use the abstract keyword for an abstract method. You simply\n",
    "omit its body. As in Java, a class with at least one abstract method must be\n",
    "declared abstract.\n",
    "In a subclass, you need not use the override keyword when you defi ne a method\n",
    "that was abstract in the superclass.\n"
   ]
  },
  {
   "cell_type": "code",
   "execution_count": 46,
   "metadata": {},
   "outputs": [
    {
     "data": {
      "text/plain": [
       "defined \u001b[32mclass\u001b[39m \u001b[36mEmployee\u001b[39m"
      ]
     },
     "execution_count": 46,
     "metadata": {},
     "output_type": "execute_result"
    }
   ],
   "source": [
    "class Employee(name: String) extends Person(name) {\n",
    " def id = name.hashCode // override keyword not required\n",
    "}"
   ]
  },
  {
   "cell_type": "markdown",
   "metadata": {},
   "source": [
    "## 8.9 Abstract Fields\n"
   ]
  },
  {
   "cell_type": "markdown",
   "metadata": {},
   "source": [
    "In addition to abstract methods, a class can also have abstract fi elds. An abstract\n",
    "fi eld is simply a fi eld without an initial value. For example,\n",
    "97 8.9 Abstract Fields\n"
   ]
  },
  {
   "cell_type": "code",
   "execution_count": 48,
   "metadata": {},
   "outputs": [
    {
     "data": {
      "text/plain": [
       "defined \u001b[32mclass\u001b[39m \u001b[36mPerson\u001b[39m"
      ]
     },
     "execution_count": 48,
     "metadata": {},
     "output_type": "execute_result"
    }
   ],
   "source": [
    "abstract class Person {\n",
    " val id: Int \n",
    " // No initializer— this is an abstract fi eld with an abstract getter method\n",
    " var name: String \n",
    " // Another abstract fi eld, with abstract getter and setter methods\n",
    "}"
   ]
  },
  {
   "cell_type": "markdown",
   "metadata": {},
   "source": [
    "This class defines abstract getter methods for the id and name fi elds, and an abstract\n",
    "setter for the name fi eld. The generated Java class has no fi elds.\n",
    "Concrete subclasses must provide concrete fi elds, for example:"
   ]
  },
  {
   "cell_type": "code",
   "execution_count": 49,
   "metadata": {},
   "outputs": [
    {
     "data": {
      "text/plain": [
       "defined \u001b[32mclass\u001b[39m \u001b[36mEmployee\u001b[39m"
      ]
     },
     "execution_count": 49,
     "metadata": {},
     "output_type": "execute_result"
    }
   ],
   "source": [
    "class Employee(val id: Int) extends Person { // Subclass has concrete id property\n",
    " var name = \"\" // and concrete name property\n",
    "} "
   ]
  },
  {
   "cell_type": "markdown",
   "metadata": {},
   "source": [
    "As with methods, no override keyword is required in the subclass when you defi ne\n",
    "a fi eld that was abstract in the superclass.\n",
    "You can always customize an abstract fi eld by using an anonymous type:"
   ]
  },
  {
   "cell_type": "code",
   "execution_count": 50,
   "metadata": {},
   "outputs": [
    {
     "data": {
      "text/plain": [
       "\u001b[36mfred\u001b[39m: \u001b[32mPerson\u001b[39m = $sess.cmd49Wrapper$Helper$$anon$1@6937e192"
      ]
     },
     "execution_count": 50,
     "metadata": {},
     "output_type": "execute_result"
    }
   ],
   "source": [
    "val fred = new Person {\n",
    " val id = 1729\n",
    " var name = \"Fred\"\n",
    "}"
   ]
  },
  {
   "cell_type": "markdown",
   "metadata": {},
   "source": [
    "## 8.12 Object Equality"
   ]
  },
  {
   "cell_type": "markdown",
   "metadata": {},
   "source": [
    "In Scala, the eq method of the AnyRef class checks whether two references refer to\n",
    "the same object. The equals method in AnyRef calls eq. When you implement a class,\n",
    "you should consider overriding the equals method to provide a natural notion of\n",
    "equality for your situation.\n",
    "For example, if you defi ne a class Item(val description: String, val price: Double),\n",
    "you might want to consider two items equal if they have the same description\n",
    "and price. Here is an appropriate equals method:"
   ]
  },
  {
   "cell_type": "code",
   "execution_count": 52,
   "metadata": {},
   "outputs": [
    {
     "data": {
      "text/plain": [
       "defined \u001b[32mclass\u001b[39m \u001b[36mItem\u001b[39m"
      ]
     },
     "execution_count": 52,
     "metadata": {},
     "output_type": "execute_result"
    }
   ],
   "source": [
    "class Item(val description: String, val price: Double){\n",
    "  final override def equals(other: Any) = {\n",
    "  other.isInstanceOf[Item] && {\n",
    "  val that = other.asInstanceOf[Item]\n",
    "  description == that.description && price == that.price\n",
    " }\n",
    "}\n",
    "}"
   ]
  },
  {
   "cell_type": "markdown",
   "metadata": {},
   "source": [
    "Or better, use pattern matching:\n"
   ]
  },
  {
   "cell_type": "code",
   "execution_count": 52,
   "metadata": {},
   "outputs": [
    {
     "name": "stderr",
     "output_type": "stream",
     "text": [
      "cmd52.sc:2: not found: value description\n",
      " case that: Item => description == that.description && price == that.price\n",
      "                    ^cmd52.sc:2: not found: value price\n",
      " case that: Item => description == that.description && price == that.price\n",
      "                                                       ^"
     ]
    },
    {
     "ename": "",
     "evalue": "",
     "execution_count": 52,
     "output_type": "error",
     "status": "error",
     "traceback": [
      "Compilation Failed"
     ]
    }
   ],
   "source": [
    "final override def equals(other: Any) = other match {\n",
    " case that: Item => description == that.description && price == that.price\n",
    " case _ => false\n",
    "}"
   ]
  },
  {
   "cell_type": "markdown",
   "metadata": {},
   "source": [
    "When you defi ne equals, remember to defi ne hashCode as well. The hash code should\n",
    "be computed only from the fi elds that you use in the equality check, so that equal\n",
    "objects have the same hash code. In the Item example, combine the hash codes of\n",
    "the fi elds.\n",
    "final override def hashCode = (description, price).##\n",
    "The ## method is a null-safe version of the hashCode method that yields 0 for null\n",
    "instead of throwing an exception.\n"
   ]
  },
  {
   "cell_type": "code",
   "execution_count": null,
   "metadata": {},
   "outputs": [],
   "source": []
  }
 ],
 "metadata": {
  "kernelspec": {
   "display_name": "Scala",
   "language": "scala",
   "name": "scala"
  },
  "language_info": {
   "codemirror_mode": "text/x-scala",
   "file_extension": ".scala",
   "mimetype": "text/x-scala",
   "name": "scala211",
   "nbconvert_exporter": "script",
   "pygments_lexer": "scala",
   "version": "2.11.11"
  }
 },
 "nbformat": 4,
 "nbformat_minor": 2
}
