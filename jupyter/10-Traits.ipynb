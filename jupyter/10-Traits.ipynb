{
 "cells": [
  {
   "cell_type": "markdown",
   "metadata": {},
   "source": [
    "# 10. Traits\n",
    "(Jason Swartz - Learning Scala_ Practical Functional Programming for the JVM (2014, O'Reilly Media)"
   ]
  },
  {
   "cell_type": "markdown",
   "metadata": {},
   "source": [
    "A trait is a kind of class that enables multiple inheritance. Classes, case classes, objects,\n",
    "and (yes) traits can all extend no more than one class but can extend multiple traits at\n",
    "the same time. Unlike the other types, however, traits cannot be instantiated.\n",
    "Traits look about the same as any other type of class. However, like objects, they cannot\n",
    "take class parameters. Unlike objects, however, traits can take type parameters, which\n",
    "can help to make them extremely reusable.\n",
    "To define a trait, use the trait keyword in place of where you would normally use the\n",
    "class keyword."
   ]
  },
  {
   "cell_type": "markdown",
   "metadata": {},
   "source": [
    "Syntax: Defining a Trait\n",
    "\n",
    "`trait <identifier> [extends <identifier>] [{ fields, methods, and classes }]`"
   ]
  },
  {
   "cell_type": "markdown",
   "metadata": {},
   "source": [
    "Let's implement a trait:"
   ]
  },
  {
   "cell_type": "code",
   "execution_count": 1,
   "metadata": {},
   "outputs": [
    {
     "data": {
      "text/plain": [
       "defined \u001b[32mtrait\u001b[39m \u001b[36mHtmlUtils\u001b[39m"
      ]
     },
     "execution_count": 1,
     "metadata": {},
     "output_type": "execute_result"
    }
   ],
   "source": [
    "trait HtmlUtils {\n",
    "  def removeMarkup(input: String) = {\n",
    "  input\n",
    "  .replaceAll(\"\"\"</?\\w[^>]*>\"\"\",\"\")\n",
    "  .replaceAll(\"<.*>\",\"\")\n",
    "  }\n",
    "}"
   ]
  },
  {
   "cell_type": "code",
   "execution_count": 2,
   "metadata": {},
   "outputs": [
    {
     "data": {
      "text/plain": [
       "defined \u001b[32mclass\u001b[39m \u001b[36mPage\u001b[39m"
      ]
     },
     "execution_count": 2,
     "metadata": {},
     "output_type": "execute_result"
    }
   ],
   "source": [
    "class Page(val s: String) extends HtmlUtils {\n",
    "  def asPlainText = removeMarkup(s)\n",
    "  }\n"
   ]
  },
  {
   "cell_type": "code",
   "execution_count": 4,
   "metadata": {},
   "outputs": [
    {
     "data": {
      "text/plain": [
       "\u001b[36mmypage\u001b[39m: \u001b[32mString\u001b[39m = \u001b[32m\"Introduction\"\u001b[39m"
      ]
     },
     "execution_count": 4,
     "metadata": {},
     "output_type": "execute_result"
    }
   ],
   "source": [
    "val mypage = new Page(\"<html><body><h1>Introduction</h1></body></html>\").asPlainText"
   ]
  },
  {
   "cell_type": "markdown",
   "metadata": {},
   "source": [
    "Our Page class can now use the removeMarkup method directly without specifying an\n",
    "object name."
   ]
  },
  {
   "cell_type": "markdown",
   "metadata": {},
   "source": [
    "#### Note: Traits Come After the Parent Class\n",
    "If you are extending a class and one or more traits, you will need to\n",
    "extend the class before you can add the traits using the with key‐\n",
    "word. A parent class, if specified, must always come before any par‐\n",
    "ent traits.\n"
   ]
  },
  {
   "cell_type": "markdown",
   "metadata": {},
   "source": [
    "This works pretty well, but a class version of HtmlUtils could have done the same job.\n",
    "Let’s make it more interesting by adding a second trait. This time we’ll use a new key‐\n",
    "word, with, which is required for extending the second and later traits:\n"
   ]
  },
  {
   "cell_type": "code",
   "execution_count": 5,
   "metadata": {},
   "outputs": [
    {
     "data": {
      "text/plain": [
       "defined \u001b[32mtrait\u001b[39m \u001b[36mSafeStringUtils\u001b[39m"
      ]
     },
     "execution_count": 5,
     "metadata": {},
     "output_type": "execute_result"
    }
   ],
   "source": [
    " trait SafeStringUtils {\n",
    "  // Returns a trimmed version of the string wrapped in an Option,\n",
    "  // or None if the trimmed string is empty.\n",
    "  def trimToNone(s: String): Option[String] = {\n",
    "  Option(s) map(_.trim) filterNot(_.isEmpty)\n",
    "  }\n",
    "  }\n"
   ]
  },
  {
   "cell_type": "code",
   "execution_count": 6,
   "metadata": {},
   "outputs": [
    {
     "data": {
      "text/plain": [
       "defined \u001b[32mclass\u001b[39m \u001b[36mPage\u001b[39m"
      ]
     },
     "execution_count": 6,
     "metadata": {},
     "output_type": "execute_result"
    }
   ],
   "source": [
    " class Page(val s: String) extends SafeStringUtils with HtmlUtils {\n",
    "  def asPlainText: String = {\n",
    "  trimToNone(s) map removeMarkup getOrElse \"n/a\"\n",
    "  }\n",
    " }\n"
   ]
  },
  {
   "cell_type": "code",
   "execution_count": 10,
   "metadata": {},
   "outputs": [
    {
     "data": {
      "text/plain": [
       "\u001b[36mres9_0\u001b[39m: \u001b[32mString\u001b[39m = \u001b[32m\"Introduction\"\u001b[39m\n",
       "\u001b[36mres9_1\u001b[39m: \u001b[32mString\u001b[39m = \u001b[32m\"n/a\"\u001b[39m\n",
       "\u001b[36mres9_2\u001b[39m: \u001b[32mString\u001b[39m = \u001b[32m\"n/a\"\u001b[39m"
      ]
     },
     "execution_count": 10,
     "metadata": {},
     "output_type": "execute_result"
    }
   ],
   "source": [
    "new Page(\"<html><body><h1>Introduction</h1></body></html>\").asPlainText\n",
    "new Page(\" \").asPlainText\n",
    " new Page(null).asPlainText"
   ]
  },
  {
   "cell_type": "markdown",
   "metadata": {},
   "source": [
    "Our new, more robust Page class now extends two traits and can handle null or empty\n",
    "strings by returning the message n/a.\n",
    "If you’re familiar with the JVM you may be wondering how Scala can support multiple\n",
    "inheritance with traits. After all, JVM classes can only extend one parent class. The\n",
    "answer is that although the language supports multiple inheritance in theory, the com‐\n",
    "piler actually creates copies of each trait to form a tall, single-column hierarchy of the\n",
    "class and traits. So, a class extending class A and traits B and C is actually extending one\n",
    "class, which extends another class, which extends another class, when compiled to\n",
    "the .class binary file.\n",
    "This process of taking a horizontal list of a class and traits being extended, and reforming\n",
    "them into a vertical chain of one class extending another, is known as linearization. It\n",
    "is a kind of coping mechanism for supporting multiple inheritance in an execution\n",
    "environment that only supports single inheritance. The fact that the JVM only supports\n",
    "single inheritance ensures that all class hierarchies are nondeterministic and prevents\n",
    "the possibility of confusing two traits that have competing members.\n"
   ]
  },
  {
   "cell_type": "markdown",
   "metadata": {},
   "source": [
    "#### What Happens If You Have Traits with Competing Members?\n",
    "What Happens If You Have Traits with Competing Members?\n",
    "A class importing two traits that have the same field or method, but\n",
    "lack an override keyword, will fail to compile. The compilation er‐\n",
    "ror is the same as if you were extending a class and providing your\n",
    "own version of a method but failed to add an override keyword. In\n",
    "the case of the traits, adding a common base class and then overrid‐\n",
    "ing the field or method with the override keyword will ensure the\n",
    "traits can be extended by the same class."
   ]
  },
  {
   "cell_type": "code",
   "execution_count": null,
   "metadata": {},
   "outputs": [],
   "source": []
  }
 ],
 "metadata": {
  "kernelspec": {
   "display_name": "Scala",
   "language": "scala",
   "name": "scala"
  },
  "language_info": {
   "codemirror_mode": "text/x-scala",
   "file_extension": ".scala",
   "mimetype": "text/x-scala",
   "name": "scala211",
   "nbconvert_exporter": "script",
   "pygments_lexer": "scala",
   "version": "2.11.11"
  }
 },
 "nbformat": 4,
 "nbformat_minor": 2
}
