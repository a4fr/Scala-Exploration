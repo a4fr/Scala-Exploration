{
 "cells": [
  {
   "cell_type": "markdown",
   "metadata": {},
   "source": [
    "# 12. Higher-Order Functions"
   ]
  },
  {
   "cell_type": "markdown",
   "metadata": {},
   "source": [
    "Scala mixes object orientation with functional features. In a functional programming language, functions are fi rst-class citizens that can be passed around and\n",
    "manipulated just like any other data types. This is very useful whenever you\n",
    "want to pass some action detail to an algorithm. In a functional language, you\n",
    "just wrap that detail into a function that you pass as a parameter. In this chapter,\n",
    "you will see how to be productive with functions that use or return functions.\n"
   ]
  },
  {
   "cell_type": "markdown",
   "metadata": {},
   "source": [
    "## 12.1 Functions as Values"
   ]
  },
  {
   "cell_type": "markdown",
   "metadata": {},
   "source": [
    "In Scala, a function is a fi rst-class citizen, just like a number. You can store a\n",
    "function in a variable:\n"
   ]
  },
  {
   "cell_type": "code",
   "execution_count": 1,
   "metadata": {},
   "outputs": [
    {
     "data": {
      "text/plain": [
       "\u001b[32mimport \u001b[39m\u001b[36mscala.math._\n",
       "\u001b[39m\n",
       "\u001b[36mnum\u001b[39m: \u001b[32mDouble\u001b[39m = \u001b[32m3.14\u001b[39m\n",
       "\u001b[36mfun\u001b[39m: \u001b[32mDouble\u001b[39m => \u001b[32mDouble\u001b[39m = <function1>"
      ]
     },
     "execution_count": 1,
     "metadata": {},
     "output_type": "execute_result"
    }
   ],
   "source": [
    "import scala.math._\n",
    "val num = 3.14\n",
    "val fun = ceil _"
   ]
  },
  {
   "cell_type": "markdown",
   "metadata": {},
   "source": [
    "This code sets num to 3.14 and fun to the ceil function.\n",
    "The _ behind the ceil function indicates that you really meant the function, and\n",
    "you didn’ t just forget to supply the arguments.\n",
    "When you try this code in the REPL, the type of num is, not surprisingly, Double.\n",
    "The type of fun is reported as (Double) => Double— that is, a function receiving and\n",
    "returning a Double"
   ]
  },
  {
   "cell_type": "markdown",
   "metadata": {},
   "source": [
    "#### NOTE: \n",
    "Technically, the _ turns the ceil method into a function. In Scala, you\n",
    "cannot manipulate methods, only functions.The type of the function is (Double)\n",
    "=> Double, with an arrow. In contrast, the type of the ceil method is\n",
    "(Double)Double, without an arrow. There is no way for you to work with such a\n",
    "type, but you will fi nd it in compiler and REPL messages.\n",
    "The _ suffi x is not necessary when you use a method name in a context where\n",
    "a function is expected. For example, the following is legal:\n",
    "val f: (Double) => Double = ceil // No underscore needed"
   ]
  },
  {
   "cell_type": "markdown",
   "metadata": {},
   "source": [
    "#### NOTE: \n",
    "The ceil method is a method of the scala.math package object. If you\n",
    "have a method from a class, the syntax for turning it into a function is slightly\n",
    "different:\n",
    "val f = (_: String).charAt(_: Int)\n",
    " // A function (String, Int) => Char\n",
    "Alternatively, you can specify the type of the function instead of the parameter\n",
    "types:\n",
    "val f: (String, Int) => Char = _.charAt(_)"
   ]
  },
  {
   "cell_type": "markdown",
   "metadata": {},
   "source": [
    "What can you do with a function? Two things:\n",
    "\n",
    "• Call it.\n",
    "\n",
    "• Pass it around, by storing it in a variable or giving it to a function as a\n",
    "\n",
    "parameter.\n",
    "Here is how to call the function stored in fun:\n",
    "\n",
    "`fun(num) // 4.0`\n",
    "\n",
    "As you can see, the normal function call syntax is used. The only difference is\n",
    "that fun is a variable containing a function, not a fi xed function.\n"
   ]
  },
  {
   "cell_type": "markdown",
   "metadata": {},
   "source": [
    "Here is how you can give fun to another function:"
   ]
  },
  {
   "cell_type": "code",
   "execution_count": 2,
   "metadata": {},
   "outputs": [
    {
     "data": {
      "text/plain": [
       "\u001b[36mres1\u001b[39m: \u001b[32mArray\u001b[39m[\u001b[32mDouble\u001b[39m] = \u001b[33mArray\u001b[39m(\u001b[32m4.0\u001b[39m, \u001b[32m2.0\u001b[39m, \u001b[32m2.0\u001b[39m)"
      ]
     },
     "execution_count": 2,
     "metadata": {},
     "output_type": "execute_result"
    }
   ],
   "source": [
    "Array(3.14, 1.42, 2.0).map(fun) // Array(4.0, 2.0, 2.0)"
   ]
  },
  {
   "cell_type": "markdown",
   "metadata": {},
   "source": [
    "The map method accepts a function, applies it to all values in an array, and returns\n",
    "an array with the function values. In this chapter, you will see many other\n",
    "methods that accept functions as parameters."
   ]
  },
  {
   "cell_type": "markdown",
   "metadata": {},
   "source": [
    "## 12.2 Anonymous Functions"
   ]
  },
  {
   "cell_type": "markdown",
   "metadata": {},
   "source": [
    "In Scala, you don’ t have to give a name to each function, just like you don’ t have\n",
    "to give a name to each number. Here is an anonymous function:"
   ]
  },
  {
   "cell_type": "code",
   "execution_count": 1,
   "metadata": {},
   "outputs": [
    {
     "data": {
      "text/plain": [
       "\u001b[36mres0\u001b[39m: \u001b[32mDouble\u001b[39m => \u001b[32mDouble\u001b[39m = <function1>"
      ]
     },
     "execution_count": 1,
     "metadata": {},
     "output_type": "execute_result"
    }
   ],
   "source": [
    "(x: Double) => 3 * x"
   ]
  },
  {
   "cell_type": "markdown",
   "metadata": {},
   "source": [
    "This function multiplies its argument by 3.\n",
    "\n",
    "Of course, you can store this function in a variable:\n"
   ]
  },
  {
   "cell_type": "code",
   "execution_count": 9,
   "metadata": {},
   "outputs": [
    {
     "data": {
      "text/plain": [
       "\u001b[36mtriple\u001b[39m: \u001b[32mDouble\u001b[39m => \u001b[32mDouble\u001b[39m = <function1>\n",
       "\u001b[36mres8_1\u001b[39m: \u001b[32mClass\u001b[39m[\u001b[32m?0\u001b[39m] = class $sess.cmd8Wrapper$Helper$$anonfun$1"
      ]
     },
     "execution_count": 9,
     "metadata": {},
     "output_type": "execute_result"
    }
   ],
   "source": [
    "val triple = (x: Double) => 3 * x"
   ]
  },
  {
   "cell_type": "markdown",
   "metadata": {},
   "source": [
    "That’ s just as if you had used a def:"
   ]
  },
  {
   "cell_type": "code",
   "execution_count": 10,
   "metadata": {},
   "outputs": [
    {
     "data": {
      "text/plain": [
       "defined \u001b[32mfunction\u001b[39m \u001b[36mtriple\u001b[39m"
      ]
     },
     "execution_count": 10,
     "metadata": {},
     "output_type": "execute_result"
    }
   ],
   "source": [
    "def triple(x: Double) = 3 * x"
   ]
  },
  {
   "cell_type": "markdown",
   "metadata": {},
   "source": [
    "But you don’ t have to name the function. You can just pass it to another function:"
   ]
  },
  {
   "cell_type": "code",
   "execution_count": 4,
   "metadata": {},
   "outputs": [
    {
     "data": {
      "text/plain": [
       "\u001b[36mres3\u001b[39m: \u001b[32mArray\u001b[39m[\u001b[32mDouble\u001b[39m] = \u001b[33mArray\u001b[39m(\u001b[32m9.42\u001b[39m, \u001b[32m4.26\u001b[39m, \u001b[32m6.0\u001b[39m)"
      ]
     },
     "execution_count": 4,
     "metadata": {},
     "output_type": "execute_result"
    }
   ],
   "source": [
    "Array(3.14, 1.42, 2.0).map((x: Double) => 3 * x)\n",
    " // Array(9.42, 4.26, 6.0)"
   ]
  },
  {
   "cell_type": "markdown",
   "metadata": {},
   "source": [
    "Here, we tell the map method: “ Multiply each element by 3.”"
   ]
  },
  {
   "cell_type": "markdown",
   "metadata": {},
   "source": [
    "#### NOTE: \n",
    "If you prefer, you can enclose the function argument in braces instead\n",
    "of parentheses, for example:\n",
    "Array(3.14, 1.42, 2.0).map{ (x: Double) => 3 * x }\n",
    "This is more common when a method is used in infi x notation (without the dot).\n",
    "Array(3.14, 1.42, 2.0) map { (x: Double) => 3 * x }"
   ]
  },
  {
   "cell_type": "markdown",
   "metadata": {},
   "source": [
    "#### NOTE: \n",
    "Anything defi ned with def (in the REPL or a class or object) is a\n",
    "method, not a function:\n",
    "scala> def triple(x: Double) = 3 * x\n",
    "triple: (x: Double)Double\n",
    "Note the method type (x: Double)Double. In contrast, a function defi nition has\n",
    "a function type:\n",
    "scala> val triple = (x: Double) => 3 * x\n",
    "triple: Double => Double"
   ]
  },
  {
   "cell_type": "code",
   "execution_count": 12,
   "metadata": {},
   "outputs": [
    {
     "data": {
      "text/plain": [
       "defined \u001b[32mobject\u001b[39m \u001b[36mtest\u001b[39m"
      ]
     },
     "execution_count": 12,
     "metadata": {},
     "output_type": "execute_result"
    }
   ],
   "source": [
    "object test{\n",
    "    def mult(a: Int, b: Int) :Int = a*b\n",
    "    val mult2 = (a:Int, b:Int) => a*b\n",
    "}"
   ]
  },
  {
   "cell_type": "markdown",
   "metadata": {},
   "source": [
    "below commands are equal"
   ]
  },
  {
   "cell_type": "code",
   "execution_count": 17,
   "metadata": {},
   "outputs": [
    {
     "data": {
      "text/plain": [
       "\u001b[36mres16_0\u001b[39m: (\u001b[32mInt\u001b[39m, \u001b[32mInt\u001b[39m) => \u001b[32mInt\u001b[39m = <function2>\n",
       "\u001b[36mres16_1\u001b[39m: (\u001b[32mInt\u001b[39m, \u001b[32mInt\u001b[39m) => \u001b[32mInt\u001b[39m = <function2>"
      ]
     },
     "execution_count": 17,
     "metadata": {},
     "output_type": "execute_result"
    }
   ],
   "source": [
    "test.mult _\n",
    "test.mult2"
   ]
  },
  {
   "cell_type": "markdown",
   "metadata": {},
   "source": [
    "## 12.3 Functions with Function Parameters"
   ]
  },
  {
   "cell_type": "markdown",
   "metadata": {},
   "source": [
    "In this section, you will see how to implement a function that takes another\n",
    "function as a parameter. Here is an example:"
   ]
  },
  {
   "cell_type": "code",
   "execution_count": 18,
   "metadata": {},
   "outputs": [
    {
     "data": {
      "text/plain": [
       "defined \u001b[32mfunction\u001b[39m \u001b[36mvalueAtOneQuarter\u001b[39m"
      ]
     },
     "execution_count": 18,
     "metadata": {},
     "output_type": "execute_result"
    }
   ],
   "source": [
    "def valueAtOneQuarter(f: (Double) => Double) = f(0.25)"
   ]
  },
  {
   "cell_type": "markdown",
   "metadata": {},
   "source": [
    "Note that the parameter can be any function receiving and returning a Double. The\n",
    "valueAtOneQuarter function computes the value of that function at 0.25."
   ]
  },
  {
   "cell_type": "code",
   "execution_count": 21,
   "metadata": {},
   "outputs": [
    {
     "data": {
      "text/plain": [
       "\u001b[32mimport \u001b[39m\u001b[36mscala.math._\u001b[39m"
      ]
     },
     "execution_count": 21,
     "metadata": {},
     "output_type": "execute_result"
    }
   ],
   "source": [
    "import scala.math._"
   ]
  },
  {
   "cell_type": "code",
   "execution_count": 22,
   "metadata": {},
   "outputs": [
    {
     "data": {
      "text/plain": [
       "\u001b[36mres21_0\u001b[39m: \u001b[32mDouble\u001b[39m = \u001b[32m1.0\u001b[39m\n",
       "\u001b[36mres21_1\u001b[39m: \u001b[32mDouble\u001b[39m = \u001b[32m0.5\u001b[39m"
      ]
     },
     "execution_count": 22,
     "metadata": {},
     "output_type": "execute_result"
    }
   ],
   "source": [
    "valueAtOneQuarter(ceil _) // 1.0\n",
    "valueAtOneQuarter(sqrt _) // 0.5 (because 0.5 × 0.5 = 0.25)"
   ]
  },
  {
   "cell_type": "markdown",
   "metadata": {},
   "source": [
    "What is the type of valueAtOneQuarter? It is a function with one parameter, so its\n",
    "type is written as\n",
    "\n",
    "`( parameterType) => resultType`\n",
    "\n",
    "The resultType is clearly Double, and the parameterType is already given in the function\n",
    "header as (Double) => Double. Therefore, the type of valueAtOneQuarter is\n",
    "\n",
    "`((Double) => Double) => Double\n",
    "`"
   ]
  },
  {
   "cell_type": "markdown",
   "metadata": {},
   "source": [
    "Since valueAtOneQuarter is a function that receives a function, it is called a\n",
    "higher-order function.\n",
    "A higher-order function can also produce a function. Here is a simple example:"
   ]
  },
  {
   "cell_type": "code",
   "execution_count": 23,
   "metadata": {},
   "outputs": [
    {
     "data": {
      "text/plain": [
       "defined \u001b[32mfunction\u001b[39m \u001b[36mmulBy\u001b[39m"
      ]
     },
     "execution_count": 23,
     "metadata": {},
     "output_type": "execute_result"
    }
   ],
   "source": [
    "def mulBy(factor : Double) = (x : Double) => factor * x"
   ]
  },
  {
   "cell_type": "markdown",
   "metadata": {},
   "source": [
    "For example, mulBy(3) returns the function (x : Double) => 3 * x which you have\n",
    "seen in the preceding section. The power of mulBy is that it can deliver functions\n",
    "that multiply by any amount"
   ]
  },
  {
   "cell_type": "code",
   "execution_count": 24,
   "metadata": {},
   "outputs": [
    {
     "data": {
      "text/plain": [
       "\u001b[36mquintuple\u001b[39m: \u001b[32mDouble\u001b[39m => \u001b[32mDouble\u001b[39m = <function1>\n",
       "\u001b[36mres23_1\u001b[39m: \u001b[32mDouble\u001b[39m = \u001b[32m100.0\u001b[39m"
      ]
     },
     "execution_count": 24,
     "metadata": {},
     "output_type": "execute_result"
    }
   ],
   "source": [
    "val quintuple = mulBy(5)\n",
    "quintuple(20) // 100"
   ]
  },
  {
   "cell_type": "markdown",
   "metadata": {},
   "source": [
    "The mulBy function has a parameter of type Double, and it returns a function of type\n",
    "(Double) => Double. Therefore, its type is\n",
    "\n",
    "`(Double) => ((Double) => Double)\n",
    "`"
   ]
  },
  {
   "cell_type": "markdown",
   "metadata": {},
   "source": [
    "When you pass an anonymous function to another function or method, Scala\n",
    "helps you out by deducing types when possible. For example, you don’ t have to\n",
    "write"
   ]
  },
  {
   "cell_type": "code",
   "execution_count": 26,
   "metadata": {},
   "outputs": [
    {
     "data": {
      "text/plain": [
       "\u001b[36mres25\u001b[39m: \u001b[32mDouble\u001b[39m = \u001b[32m0.75\u001b[39m"
      ]
     },
     "execution_count": 26,
     "metadata": {},
     "output_type": "execute_result"
    }
   ],
   "source": [
    "valueAtOneQuarter((x: Double) => 3 * x) // 0.75"
   ]
  },
  {
   "cell_type": "markdown",
   "metadata": {},
   "source": [
    "Since the valueAtOneQuarter method knows that you will pass in a (Double) => Double\n",
    "function, you can just write"
   ]
  },
  {
   "cell_type": "code",
   "execution_count": 27,
   "metadata": {},
   "outputs": [
    {
     "data": {
      "text/plain": [
       "\u001b[36mres26\u001b[39m: \u001b[32mDouble\u001b[39m = \u001b[32m0.75\u001b[39m"
      ]
     },
     "execution_count": 27,
     "metadata": {},
     "output_type": "execute_result"
    }
   ],
   "source": [
    "valueAtOneQuarter((x) => 3 * x)"
   ]
  },
  {
   "cell_type": "markdown",
   "metadata": {},
   "source": [
    "As a special bonus, for a function that has just one parameter, you can omit the\n",
    "() around the parameter:\n"
   ]
  },
  {
   "cell_type": "code",
   "execution_count": 28,
   "metadata": {},
   "outputs": [
    {
     "data": {
      "text/plain": [
       "\u001b[36mres27\u001b[39m: \u001b[32mDouble\u001b[39m = \u001b[32m0.75\u001b[39m"
      ]
     },
     "execution_count": 28,
     "metadata": {},
     "output_type": "execute_result"
    }
   ],
   "source": [
    "valueAtOneQuarter(x => 3 * x)"
   ]
  },
  {
   "cell_type": "markdown",
   "metadata": {},
   "source": [
    "It gets better. If a parameter occurs only once on the right-hand side of the =>,\n",
    "you can replace it with an underscore:\n"
   ]
  },
  {
   "cell_type": "code",
   "execution_count": 29,
   "metadata": {},
   "outputs": [
    {
     "data": {
      "text/plain": [
       "\u001b[36mres28\u001b[39m: \u001b[32mDouble\u001b[39m = \u001b[32m0.75\u001b[39m"
      ]
     },
     "execution_count": 29,
     "metadata": {},
     "output_type": "execute_result"
    }
   ],
   "source": [
    "valueAtOneQuarter(3 * _)"
   ]
  },
  {
   "cell_type": "markdown",
   "metadata": {},
   "source": [
    "This is the ultimate in comfort, and it is also pretty easy to read: a function that\n",
    "multiplies something by 3.\n",
    "Keep in mind that these shortcuts only work when the parameter types are\n",
    "known.\n"
   ]
  },
  {
   "cell_type": "code",
   "execution_count": 32,
   "metadata": {},
   "outputs": [
    {
     "name": "stderr",
     "output_type": "stream",
     "text": [
      "cmd32.sc:2: fun is already defined as value fun\n",
      "val fun = 3 * (_: Double) // OK\n",
      "            ^cmd32.sc:3: fun is already defined as value fun\n",
      "val fun: (Double) => Double = 3 * _ // OK because we specifi ed the type for fun\n",
      "                                ^cmd32.sc:1: missing parameter type for expanded function ((x$1) => 3.*(x$1))\n",
      "val fun = 3 * _ // Error: Can’ t infer types\n",
      "              ^"
     ]
    },
    {
     "ename": "",
     "evalue": "",
     "execution_count": 32,
     "output_type": "error",
     "status": "error",
     "traceback": [
      "Compilation Failed"
     ]
    }
   ],
   "source": [
    "val fun = 3 * _ // Error: Can’ t infer types\n",
    "val fun = 3 * (_: Double) // OK\n",
    "val fun: (Double) => Double = 3 * _ // OK because we specifi ed the type for fun"
   ]
  },
  {
   "cell_type": "markdown",
   "metadata": {},
   "source": [
    "Of course, the last defi nition is contrived. But it shows what happens when a\n",
    "function is passed to a parameter (which has just such a type)."
   ]
  },
  {
   "cell_type": "markdown",
   "metadata": {},
   "source": [
    "#### NOTE: \n",
    "\n",
    "Specifying the type of _ is useful for turning methods into functions.\n",
    "For example, (_: String).length is a function String => Int, and\n",
    "(_: String).substring(_:Int, _: Int) is a function (String, Int, Int) => String."
   ]
  },
  {
   "cell_type": "markdown",
   "metadata": {},
   "source": [
    "## 12.5 Useful Higher-Order Functions"
   ]
  },
  {
   "cell_type": "markdown",
   "metadata": {},
   "source": [
    "A good way of becoming comfortable with higher-order functions is to practice\n",
    "with some common (and obviously useful) methods in the Scala collections library\n",
    "that take function parameters.\n",
    "You have seen map, which applies a function to all elements of a collection and\n",
    "returns the result. Here is a quick way of producing a collection containing 0.1,\n",
    "0.2, . . . , 0.9:"
   ]
  },
  {
   "cell_type": "code",
   "execution_count": 35,
   "metadata": {},
   "outputs": [
    {
     "data": {
      "text/plain": [
       "\u001b[36mres34\u001b[39m: \u001b[32mcollection\u001b[39m.\u001b[32mimmutable\u001b[39m.\u001b[32mIndexedSeq\u001b[39m[\u001b[32mDouble\u001b[39m] = \u001b[33mVector\u001b[39m(\n",
       "  \u001b[32m0.1\u001b[39m,\n",
       "  \u001b[32m0.2\u001b[39m,\n",
       "  \u001b[32m0.30000000000000004\u001b[39m,\n",
       "  \u001b[32m0.4\u001b[39m,\n",
       "  \u001b[32m0.5\u001b[39m,\n",
       "  \u001b[32m0.6000000000000001\u001b[39m,\n",
       "  \u001b[32m0.7000000000000001\u001b[39m,\n",
       "  \u001b[32m0.8\u001b[39m,\n",
       "  \u001b[32m0.9\u001b[39m\n",
       ")"
      ]
     },
     "execution_count": 35,
     "metadata": {},
     "output_type": "execute_result"
    }
   ],
   "source": [
    "(1 to 9).map(0.1 * _)"
   ]
  },
  {
   "cell_type": "markdown",
   "metadata": {},
   "source": [
    "Try this to print a triangle:\n"
   ]
  },
  {
   "cell_type": "code",
   "execution_count": 36,
   "metadata": {},
   "outputs": [
    {
     "name": "stdout",
     "output_type": "stream",
     "text": [
      "*\n",
      "**\n",
      "***\n",
      "****\n",
      "*****\n",
      "******\n",
      "*******\n",
      "********\n",
      "*********\n"
     ]
    }
   ],
   "source": [
    "(1 to 9).map(\"*\" * _).foreach(println _)"
   ]
  },
  {
   "cell_type": "markdown",
   "metadata": {},
   "source": [
    "Here, we also use foreach, which is like map except that its function doesn’ t return\n",
    "a value. The foreach method simply applies the function to each argument.\n",
    "The filter method yields all elements that match a particular condition. For\n",
    "example, here’ s how to get only the even numbers in a sequence:"
   ]
  },
  {
   "cell_type": "code",
   "execution_count": 37,
   "metadata": {},
   "outputs": [
    {
     "data": {
      "text/plain": [
       "\u001b[36mres36\u001b[39m: \u001b[32mcollection\u001b[39m.\u001b[32mimmutable\u001b[39m.\u001b[32mIndexedSeq\u001b[39m[\u001b[32mInt\u001b[39m] = \u001b[33mVector\u001b[39m(\u001b[32m2\u001b[39m, \u001b[32m4\u001b[39m, \u001b[32m6\u001b[39m, \u001b[32m8\u001b[39m)"
      ]
     },
     "execution_count": 37,
     "metadata": {},
     "output_type": "execute_result"
    }
   ],
   "source": [
    "(1 to 9).filter(_ % 2 == 0) // 2, 4, 6, 8"
   ]
  },
  {
   "cell_type": "markdown",
   "metadata": {},
   "source": [
    "Of course, that’ s not the most effi cient way of getting this result .\n",
    "The reduceLeft method takes a binary function— that is, a function with two param-\n",
    "eters— and applies it to all elements of a sequence, going from left to right. For\n",
    "example,"
   ]
  },
  {
   "cell_type": "code",
   "execution_count": 38,
   "metadata": {},
   "outputs": [
    {
     "data": {
      "text/plain": [
       "\u001b[36mres37\u001b[39m: \u001b[32mInt\u001b[39m = \u001b[32m362880\u001b[39m"
      ]
     },
     "execution_count": 38,
     "metadata": {},
     "output_type": "execute_result"
    }
   ],
   "source": [
    "(1 to 9).reduceLeft(_ * _)"
   ]
  },
  {
   "cell_type": "markdown",
   "metadata": {},
   "source": [
    "is\n",
    "\n",
    "`1 * 2 * 3 * 4 * 5 * 6 * 7 * 8 * 9\n",
    "`\n",
    "or, strictly speaking,\n",
    "\n",
    "(...((1 * 2) * 3) * ... * 9)\n"
   ]
  },
  {
   "cell_type": "markdown",
   "metadata": {},
   "source": [
    "Note the compact form of the multiplication function: _ * _. Each underscore\n",
    "denotes a separate parameter.\n",
    "You also need a binary function for sorting. For example,"
   ]
  },
  {
   "cell_type": "code",
   "execution_count": 40,
   "metadata": {},
   "outputs": [
    {
     "data": {
      "text/plain": [
       "\u001b[36mres39\u001b[39m: \u001b[32mArray\u001b[39m[\u001b[32mString\u001b[39m] = \u001b[33mArray\u001b[39m(\u001b[32m\"a\"\u001b[39m, \u001b[32m\"had\"\u001b[39m, \u001b[32m\"Mary\"\u001b[39m, \u001b[32m\"lamb\"\u001b[39m, \u001b[32m\"little\"\u001b[39m)"
      ]
     },
     "execution_count": 40,
     "metadata": {},
     "output_type": "execute_result"
    }
   ],
   "source": [
    "\"Mary had a little lamb\".split(\" \").sortWith(_.length < _.length)"
   ]
  },
  {
   "cell_type": "markdown",
   "metadata": {},
   "source": [
    "## 12.6 Closures\n",
    "(Scala Tutorial)"
   ]
  },
  {
   "cell_type": "markdown",
   "metadata": {},
   "source": [
    "A closure is a function, whose return value depends on the value of one or more variables declared\n",
    "outside this function. Consider the following piece of code with anonymous function:\n"
   ]
  },
  {
   "cell_type": "code",
   "execution_count": 43,
   "metadata": {},
   "outputs": [
    {
     "data": {
      "text/plain": [
       "\u001b[36mmultiplier\u001b[39m: \u001b[32mInt\u001b[39m => \u001b[32mInt\u001b[39m = <function1>"
      ]
     },
     "execution_count": 43,
     "metadata": {},
     "output_type": "execute_result"
    }
   ],
   "source": [
    "val multiplier = (i:Int) => i * 10"
   ]
  },
  {
   "cell_type": "markdown",
   "metadata": {},
   "source": [
    "Here, the only variable used in the function body, i * 0, is i, which is defined as a parameter to the function. Now, let\n",
    "us take another piece of code:"
   ]
  },
  {
   "cell_type": "code",
   "execution_count": 43,
   "metadata": {},
   "outputs": [
    {
     "name": "stderr",
     "output_type": "stream",
     "text": [
      "cmd43.sc:1: not found: value factor\n",
      "val multiplier = (i:Int) => i * factor\n",
      "                                ^"
     ]
    },
    {
     "ename": "",
     "evalue": "",
     "execution_count": 43,
     "output_type": "error",
     "status": "error",
     "traceback": [
      "Compilation Failed"
     ]
    }
   ],
   "source": [
    "val multiplier = (i:Int) => i * factor"
   ]
  },
  {
   "cell_type": "markdown",
   "metadata": {},
   "source": [
    "There are two free variables in multiplier: i and factor. One of them, i, is a formal parameter to the function. Hence,\n",
    "it is bound to a new value each time multiplier is called. However, factor is not a formal parameter, then what is\n",
    "this? Let us add one more line of code:"
   ]
  },
  {
   "cell_type": "code",
   "execution_count": 44,
   "metadata": {},
   "outputs": [
    {
     "data": {
      "text/plain": [
       "\u001b[36mfactor\u001b[39m: \u001b[32mInt\u001b[39m = \u001b[32m3\u001b[39m\n",
       "\u001b[36mmultiplier\u001b[39m: \u001b[32mInt\u001b[39m => \u001b[32mInt\u001b[39m = <function1>"
      ]
     },
     "execution_count": 44,
     "metadata": {},
     "output_type": "execute_result"
    }
   ],
   "source": [
    "var factor = 3\n",
    "val multiplier = (i:Int) => i * factor"
   ]
  },
  {
   "cell_type": "markdown",
   "metadata": {},
   "source": [
    "Now, factor has a reference to a variable outside the function but in the enclosing scope. Let us try the following\n",
    "example:"
   ]
  },
  {
   "cell_type": "code",
   "execution_count": 46,
   "metadata": {},
   "outputs": [
    {
     "data": {
      "text/plain": [
       "defined \u001b[32mobject\u001b[39m \u001b[36mTest\u001b[39m"
      ]
     },
     "execution_count": 46,
     "metadata": {},
     "output_type": "execute_result"
    }
   ],
   "source": [
    "object Test {\n",
    "var factor = 3\n",
    "val multiplier = (i:Int) => i * factor\n",
    "}"
   ]
  },
  {
   "cell_type": "code",
   "execution_count": 47,
   "metadata": {},
   "outputs": [
    {
     "data": {
      "text/plain": [
       "\u001b[36mres46_0\u001b[39m: \u001b[32mInt\u001b[39m = \u001b[32m3\u001b[39m\n",
       "\u001b[36mres46_1\u001b[39m: \u001b[32mInt\u001b[39m = \u001b[32m6\u001b[39m"
      ]
     },
     "execution_count": 47,
     "metadata": {},
     "output_type": "execute_result"
    }
   ],
   "source": [
    "Test.multiplier(1) \n",
    "Test.multiplier(2) "
   ]
  },
  {
   "cell_type": "markdown",
   "metadata": {},
   "source": [
    "Above function references factor and reads its current value each time. If a function has no external references,\n",
    "then it is trivially closed over itself. No external context is required."
   ]
  },
  {
   "cell_type": "markdown",
   "metadata": {},
   "source": [
    "## 12.8 Currying"
   ]
  },
  {
   "cell_type": "markdown",
   "metadata": {},
   "source": [
    "Currying (named after logician Haskell Brooks Curry) is the process of turning\n",
    "a function that takes two arguments into a function that takes one argument.\n",
    "That function returns a function that consumes the second argument.\n",
    "Huh? Let’ s look at an example. This function takes two arguments:"
   ]
  },
  {
   "cell_type": "code",
   "execution_count": 48,
   "metadata": {},
   "outputs": [
    {
     "data": {
      "text/plain": [
       "\u001b[36mmul\u001b[39m: (\u001b[32mInt\u001b[39m, \u001b[32mInt\u001b[39m) => \u001b[32mInt\u001b[39m = <function2>"
      ]
     },
     "execution_count": 48,
     "metadata": {},
     "output_type": "execute_result"
    }
   ],
   "source": [
    "val mul = (x: Int, y: Int) => x * y\n"
   ]
  },
  {
   "cell_type": "markdown",
   "metadata": {},
   "source": [
    "This function takes one argument, yielding a function that takes one argument:"
   ]
  },
  {
   "cell_type": "code",
   "execution_count": 49,
   "metadata": {},
   "outputs": [
    {
     "data": {
      "text/plain": [
       "\u001b[36mmulOneAtATime\u001b[39m: \u001b[32mInt\u001b[39m => \u001b[32mInt\u001b[39m => \u001b[32mInt\u001b[39m = <function1>"
      ]
     },
     "execution_count": 49,
     "metadata": {},
     "output_type": "execute_result"
    }
   ],
   "source": [
    "val mulOneAtATime = (x: Int) => ((y: Int) => x * y)"
   ]
  },
  {
   "cell_type": "markdown",
   "metadata": {},
   "source": [
    "To multiply two numbers, you call"
   ]
  },
  {
   "cell_type": "code",
   "execution_count": 50,
   "metadata": {},
   "outputs": [
    {
     "data": {
      "text/plain": [
       "\u001b[36mres49\u001b[39m: \u001b[32mInt\u001b[39m = \u001b[32m42\u001b[39m"
      ]
     },
     "execution_count": 50,
     "metadata": {},
     "output_type": "execute_result"
    }
   ],
   "source": [
    "mulOneAtATime(6)(7)"
   ]
  },
  {
   "cell_type": "markdown",
   "metadata": {},
   "source": [
    "Strictly speaking, the result of mulOneAtATime(6) is the function (y: Int) => 6 * y. That\n",
    "function is applied to 7 , yielding 42.\n",
    "When you use def, there is a shortcut for defi ning such curried methods in Scala:"
   ]
  },
  {
   "cell_type": "code",
   "execution_count": 51,
   "metadata": {},
   "outputs": [
    {
     "data": {
      "text/plain": [
       "defined \u001b[32mfunction\u001b[39m \u001b[36mmulOneAtATime\u001b[39m"
      ]
     },
     "execution_count": 51,
     "metadata": {},
     "output_type": "execute_result"
    }
   ],
   "source": [
    "def mulOneAtATime(x: Int)(y: Int) = x * y"
   ]
  },
  {
   "cell_type": "markdown",
   "metadata": {},
   "source": [
    "#### Note:\n",
    "NOTE: Recall that anything defi ned with def (in the REPL or a class or object)\n",
    "is a method, not a function. When defi ning curried methods with def, you can\n",
    "use multiple parentheses:\n",
    "\n",
    "`scala> def mulOneAtATime(x: Int)(y: Int) = x * y\n",
    "\n",
    "mulOneAtATime: (x: Int)(y: Int)Int\n",
    "`\n",
    "\n",
    "Note the method type (x: Int)(y: Int)Int. In contrast, when you defi ne a\n",
    "function, you must use multiple arrows, not multiple parentheses:\n",
    "\n",
    "`\n",
    "scala> val mulOneAtATime = (x: Int) => (y: Int) => x * y\n",
    "\n",
    "mulOneAtATime: Int => (Int => Int)\n",
    "`"
   ]
  },
  {
   "cell_type": "markdown",
   "metadata": {},
   "source": [
    "As you can see, multiple parameters are just a frill, not an essential feature of\n",
    "a programming language. That’ s an amusing theoretical insight, but it has one\n",
    "practical use in Scala. Sometimes, you can use currying for a method parameter\n",
    "so that the type inferencer has more information.\n",
    "Here is a typical example. The corresponds method can compare whether two\n",
    "sequences are the same under some comparison criterion. For example,"
   ]
  },
  {
   "cell_type": "code",
   "execution_count": 52,
   "metadata": {},
   "outputs": [
    {
     "data": {
      "text/plain": [
       "\u001b[36ma\u001b[39m: \u001b[32mArray\u001b[39m[\u001b[32mString\u001b[39m] = \u001b[33mArray\u001b[39m(\u001b[32m\"Hello\"\u001b[39m, \u001b[32m\"World\"\u001b[39m)\n",
       "\u001b[36mb\u001b[39m: \u001b[32mArray\u001b[39m[\u001b[32mString\u001b[39m] = \u001b[33mArray\u001b[39m(\u001b[32m\"hello\"\u001b[39m, \u001b[32m\"world\"\u001b[39m)\n",
       "\u001b[36mres51_2\u001b[39m: \u001b[32mBoolean\u001b[39m = \u001b[32mtrue\u001b[39m"
      ]
     },
     "execution_count": 52,
     "metadata": {},
     "output_type": "execute_result"
    }
   ],
   "source": [
    "val a = Array(\"Hello\", \"World\")\n",
    "val b = Array(\"hello\", \"world\")\n",
    "a.corresponds(b)(_.equalsIgnoreCase(_))"
   ]
  },
  {
   "cell_type": "markdown",
   "metadata": {},
   "source": [
    "Note that the function _.equalsIgnoreCase(_) is passed as a curried parameter, in a\n",
    "separate set of (...). When you look into the Scaladoc, you will see that corresponds\n",
    "is declared as\n",
    "\n",
    "`def corresponds[B](that: Seq[B])(p: (A, B) => Boolean): Boolean \n",
    "`"
   ]
  },
  {
   "cell_type": "markdown",
   "metadata": {},
   "source": [
    "The that sequence and the predicate function p are separate curried parame-\n",
    "ters. The type inferencer can fi gure out what B is from the type of that, and then\n",
    "it can use that information when analyzing the function that is passed for p .\n",
    "In our example, that is a String sequence. Therefore, the predicate is expected to\n",
    "have type (String, String) => Boolean. With that information, the compiler can accept _.equalsIgnoreCase(_) as a shortcut for (a: String, b: String) => a.equalsIgnoreCase(b).\n"
   ]
  },
  {
   "cell_type": "code",
   "execution_count": 58,
   "metadata": {},
   "outputs": [
    {
     "ename": "",
     "evalue": "",
     "execution_count": 58,
     "output_type": "error",
     "status": "error",
     "traceback": [
      "SyntaxError: found \"def p = ((z:Int) => \", expected If | While | Try | DoWhile | For | Throw | Return | ImplicitLambda | SmallerExprOrLambda | \")\" at index 30",
      " (x:Int, y:Int) => (def p = ((z:Int) => ",
      "                    ^"
     ]
    }
   ],
   "source": [
    "val mult = (x:Int, y:Int) => (def p = ((z:Int) => z)) "
   ]
  },
  {
   "cell_type": "markdown",
   "metadata": {},
   "source": [
    "## 12.9 Control Abstractions\n"
   ]
  },
  {
   "cell_type": "code",
   "execution_count": 60,
   "metadata": {},
   "outputs": [
    {
     "data": {
      "text/plain": [
       "defined \u001b[32mfunction\u001b[39m \u001b[36mrunInThread\u001b[39m"
      ]
     },
     "execution_count": 60,
     "metadata": {},
     "output_type": "execute_result"
    }
   ],
   "source": [
    "def runInThread(block: => Unit) { \n",
    " new Thread {\n",
    " override def run() { block }\n",
    " }.start()\n",
    "}\n"
   ]
  },
  {
   "cell_type": "markdown",
   "metadata": {},
   "source": [
    "Then the call becomes simply"
   ]
  },
  {
   "cell_type": "code",
   "execution_count": 65,
   "metadata": {},
   "outputs": [
    {
     "name": "stdout",
     "output_type": "stream",
     "text": [
      "Hi\n"
     ]
    }
   ],
   "source": [
    "runInThread { println(\"Hi\"); Thread.sleep(1); println(\"Bye\") }"
   ]
  },
  {
   "cell_type": "markdown",
   "metadata": {},
   "source": [
    "## 12.11 Partially Applied Functions"
   ]
  },
  {
   "cell_type": "markdown",
   "metadata": {},
   "source": [
    "When you invoke a function, you're said to be applying the function to the arguments. If you pass all the expected\n",
    "arguments, you have fully applied it. If you send only a few arguments, then you get back a partially applied\n",
    "function. This gives you the convenience of binding some arguments and leaving the rest to be filled in later.\n",
    "Following is a simple example to show the concept:"
   ]
  },
  {
   "cell_type": "code",
   "execution_count": 75,
   "metadata": {},
   "outputs": [
    {
     "name": "stdout",
     "output_type": "stream",
     "text": [
      "Sat Sep 01 18:09:23 IRDT 2018----message1\n",
      "Sat Sep 01 18:09:23 IRDT 2018----message2\n",
      "Sat Sep 01 18:09:23 IRDT 2018----message3\n"
     ]
    },
    {
     "data": {
      "text/plain": [
       "\u001b[32mimport \u001b[39m\u001b[36mjava.util.Date\n",
       "\u001b[39m\n",
       "\u001b[36mdate\u001b[39m: \u001b[32mjava\u001b[39m.\u001b[32mutil\u001b[39m.\u001b[32mDate\u001b[39m = Sat Sep 01 18:09:23 IRDT 2018\n",
       "defined \u001b[32mfunction\u001b[39m \u001b[36mlog\u001b[39m"
      ]
     },
     "execution_count": 75,
     "metadata": {},
     "output_type": "execute_result"
    }
   ],
   "source": [
    "import java.util.Date\n",
    "val date = new Date\n",
    "log(date, \"message1\" )\n",
    "log(date, \"message2\" )\n",
    "log(date, \"message3\" )\n",
    "\n",
    "def log(date: Date, message: String){\n",
    "println(date + \"----\" + message)\n",
    "}"
   ]
  },
  {
   "cell_type": "markdown",
   "metadata": {},
   "source": [
    "Here, the log( ) method takes two parameters: date and message. We want to invoke the method multiple times,\n",
    "with the same value for date but different values for message. We can eliminate the noise of passing the date to\n",
    "each call by partially applying that argument to the log( ) method. To do so, we first bind a value to the date\n",
    "parameter and leave the second parameter unbound by putting an underscore at its place. The result is a partially\n",
    "applied function that we've stored in a variable. We can now invoke this new method with only the unbound\n",
    "argument message as follows:"
   ]
  },
  {
   "cell_type": "code",
   "execution_count": 76,
   "metadata": {},
   "outputs": [
    {
     "name": "stdout",
     "output_type": "stream",
     "text": [
      "Sat Sep 01 18:10:22 IRDT 2018----message1\n",
      "Sat Sep 01 18:10:22 IRDT 2018----message2\n",
      "Sat Sep 01 18:10:22 IRDT 2018----message3\n"
     ]
    },
    {
     "data": {
      "text/plain": [
       "\u001b[32mimport \u001b[39m\u001b[36mjava.util.Date\n",
       "\u001b[39m\n",
       "\u001b[36mlogWithDateBound\u001b[39m: \u001b[32mString\u001b[39m => \u001b[32mUnit\u001b[39m = <function1>\n",
       "defined \u001b[32mfunction\u001b[39m \u001b[36mlog\u001b[39m"
      ]
     },
     "execution_count": 76,
     "metadata": {},
     "output_type": "execute_result"
    }
   ],
   "source": [
    "import java.util.Date\n",
    "val logWithDateBound = log(new Date, _ : String)\n",
    "logWithDateBound(\"message1\" )\n",
    "logWithDateBound(\"message2\" )\n",
    "logWithDateBound(\"message3\" )\n",
    "\n",
    "def log(date: Date, message: String){\n",
    "println(date + \"----\" + message)\n",
    "}\n"
   ]
  },
  {
   "cell_type": "code",
   "execution_count": null,
   "metadata": {},
   "outputs": [],
   "source": []
  }
 ],
 "metadata": {
  "kernelspec": {
   "display_name": "Scala",
   "language": "scala",
   "name": "scala"
  },
  "language_info": {
   "codemirror_mode": "text/x-scala",
   "file_extension": ".scala",
   "mimetype": "text/x-scala",
   "name": "scala211",
   "nbconvert_exporter": "script",
   "pygments_lexer": "scala",
   "version": "2.11.11"
  }
 },
 "nbformat": 4,
 "nbformat_minor": 2
}
