{
 "cells": [
  {
   "cell_type": "markdown",
   "metadata": {},
   "source": [
    "# 6. Objects"
   ]
  },
  {
   "cell_type": "markdown",
   "metadata": {},
   "source": [
    "## 6.1 Singletons"
   ]
  },
  {
   "cell_type": "markdown",
   "metadata": {},
   "source": [
    "Scala has no static methods or fi elds. Instead, you use the object construct. An\n",
    "object defi nes a single instance of a class with the features that you want. For\n",
    "example,"
   ]
  },
  {
   "cell_type": "code",
   "execution_count": 1,
   "metadata": {},
   "outputs": [
    {
     "data": {
      "text/plain": [
       "defined \u001b[32mobject\u001b[39m \u001b[36mAccounts\u001b[39m"
      ]
     },
     "execution_count": 1,
     "metadata": {},
     "output_type": "execute_result"
    }
   ],
   "source": [
    "object Accounts {\n",
    " private var lastNumber = 0\n",
    " def newUniqueNumber() = { lastNumber += 1; lastNumber }\n",
    "}"
   ]
  },
  {
   "cell_type": "markdown",
   "metadata": {},
   "source": [
    "When you need a new unique account number in your application, call"
   ]
  },
  {
   "cell_type": "code",
   "execution_count": 2,
   "metadata": {},
   "outputs": [
    {
     "data": {
      "text/plain": [
       "\u001b[36mres1\u001b[39m: \u001b[32mInt\u001b[39m = \u001b[32m1\u001b[39m"
      ]
     },
     "execution_count": 2,
     "metadata": {},
     "output_type": "execute_result"
    }
   ],
   "source": [
    "Accounts.newUniqueNumber()\n"
   ]
  },
  {
   "cell_type": "markdown",
   "metadata": {},
   "source": [
    "The constructor of an object is executed when the object is fi rst used. In our\n",
    "example, the Accounts constructor is executed with the fi rst call to Accounts.\n",
    "newUniqueNumber(). If an object is never used, its constructor is not executed.\n",
    "An object can have essentially all the features of a class— it can even extend other\n",
    "classes or traits (see Section 6.3, “ Objects Extending a Class or Trait,” on page 73).\n",
    "There is just one exception: You cannot provide constructor parameters.\n",
    "Use an object in Scala whenever you would have used a singleton object in Java\n",
    "or C++:\n",
    "\n",
    "• As a home for utility functions or constants\n",
    "\n",
    "• When a single immutable instance can be shared effi ciently\n",
    "\n",
    "• When a single instance is required to coordinate some service (the singleton\n",
    "design pattern)"
   ]
  },
  {
   "cell_type": "markdown",
   "metadata": {},
   "source": [
    "if we instantiate an object, an error would be thrown:"
   ]
  },
  {
   "cell_type": "code",
   "execution_count": 2,
   "metadata": {},
   "outputs": [
    {
     "name": "stderr",
     "output_type": "stream",
     "text": [
      "cmd2.sc:1: not found: type Accounts\n",
      "val account = new Accounts()\n",
      "                  ^"
     ]
    },
    {
     "ename": "",
     "evalue": "",
     "execution_count": 2,
     "output_type": "error",
     "status": "error",
     "traceback": [
      "Compilation Failed"
     ]
    }
   ],
   "source": [
    "val account = new Accounts()"
   ]
  },
  {
   "cell_type": "markdown",
   "metadata": {},
   "source": [
    "## 6.2 Companion Objects"
   ]
  },
  {
   "cell_type": "markdown",
   "metadata": {},
   "source": [
    "In Java or C++, you often have a class with both instance methods and static\n",
    "methods. In Scala, you can achieve this by having a class and a “ companion”\n",
    "object of the same name. For example,"
   ]
  },
  {
   "cell_type": "code",
   "execution_count": 20,
   "metadata": {},
   "outputs": [
    {
     "name": "stderr",
     "output_type": "stream",
     "text": [
      "cmd20.sc:10: value balance is not a member of object Helper.this.Account\n",
      " def show_balance = Account.balance\n",
      "                            ^"
     ]
    },
    {
     "ename": "",
     "evalue": "",
     "execution_count": 20,
     "output_type": "error",
     "status": "error",
     "traceback": [
      "Compilation Failed"
     ]
    }
   ],
   "source": [
    "class Account {\n",
    " val id = Account.newUniqueNumber()\n",
    " var balance = 0.0\n",
    " def deposit(amount: Double) { balance += amount }\n",
    "    //...\n",
    "}\n",
    "\n",
    "object Account { // The companion object\n",
    " var lastNumber = 0\n",
    " def newUniqueNumber() = { lastNumber += 1; lastNumber }\n",
    "}"
   ]
  },
  {
   "cell_type": "markdown",
   "metadata": {},
   "source": [
    "The class and its companion object can access each other’ s private features. They\n",
    "must be located in the same source file.\n"
   ]
  },
  {
   "cell_type": "markdown",
   "metadata": {},
   "source": [
    "Note that the companion object’ s features are not in the scope of the class.\n",
    "For example, the Account class has to use Account.newUniqueNumber() and not just\n",
    "newUniqueNumber() to invoke the method of the companion object.\n"
   ]
  },
  {
   "cell_type": "markdown",
   "metadata": {},
   "source": [
    "## 6.4 The apply Method"
   ]
  },
  {
   "cell_type": "markdown",
   "metadata": {},
   "source": [
    "It is common to have objects with an apply method. The apply method is called for\n",
    "expressions of the form\n",
    "\n",
    "`Object( arg1, ..., argN)` \n",
    "\n",
    "Typically, such an apply method returns an object of the companion class.\n",
    "For example, the Array object defi nes apply methods that allow array creation with\n",
    "expressions such as\n",
    "\n",
    "`Array(\"Mary\", \"had\", \"a\", \"little\", \"lamb\")`\n",
    "\n",
    "Why doesn’ t one just use a constructor? Not having the new keyword is handy\n",
    "for nested expressions, such as\n",
    "\n",
    "`Array(Array(1, 7), Array(2, 9))`\n",
    "\n"
   ]
  },
  {
   "cell_type": "markdown",
   "metadata": {},
   "source": [
    "CAUTION: It is easy to confuse Array(100) and new Array(100). The fi rst\n",
    "expression calls apply(100), yielding an Array[Int] with a single element, the\n",
    "integer 100. The second expression invokes the constructor this(100). The\n",
    "result is an Array[Nothing] with 100 null elements."
   ]
  },
  {
   "cell_type": "markdown",
   "metadata": {},
   "source": [
    "Here is an example of defi ning an apply method:"
   ]
  },
  {
   "cell_type": "code",
   "execution_count": 21,
   "metadata": {},
   "outputs": [
    {
     "data": {
      "text/plain": [
       "defined \u001b[32mclass\u001b[39m \u001b[36mAccount\u001b[39m\n",
       "defined \u001b[32mobject\u001b[39m \u001b[36mAccount\u001b[39m"
      ]
     },
     "execution_count": 21,
     "metadata": {},
     "output_type": "execute_result"
    }
   ],
   "source": [
    "class Account private (val id: Int, initialBalance: Double) {\n",
    " private var balance = initialBalance\n",
    " //...\n",
    "}\n",
    "object Account { // The companion object\n",
    " def newUniqueNumber() = { lastNumber += 1; lastNumber }\n",
    " var lastNumber = 0\n",
    " def apply(initialBalance: Double) = {\n",
    "     new Account(newUniqueNumber(), initialBalance)\n",
    " }\n",
    " //...\n",
    "}\n"
   ]
  },
  {
   "cell_type": "markdown",
   "metadata": {},
   "source": [
    "Now you can construct an account as"
   ]
  },
  {
   "cell_type": "code",
   "execution_count": 22,
   "metadata": {},
   "outputs": [
    {
     "data": {
      "text/plain": [
       "\u001b[36macct\u001b[39m: \u001b[32mAccount\u001b[39m = $sess.cmd20Wrapper$Helper$Account@4e12edc9"
      ]
     },
     "execution_count": 22,
     "metadata": {},
     "output_type": "execute_result"
    }
   ],
   "source": [
    "val acct = Account(1000.0)"
   ]
  },
  {
   "cell_type": "markdown",
   "metadata": {},
   "source": [
    "## 6.6 Enumerations"
   ]
  },
  {
   "cell_type": "markdown",
   "metadata": {},
   "source": [
    "Unlike Java or C++, Scala does not have enumerated types. However, the standard\n",
    "library provides an Enumeration helper class that you can use to produce\n",
    "enumerations.\n",
    "Defi ne an object that extends the Enumeration class and initialize each value in your\n",
    "enumeration with a call to the Value method. For example,"
   ]
  },
  {
   "cell_type": "code",
   "execution_count": 23,
   "metadata": {},
   "outputs": [
    {
     "data": {
      "text/plain": [
       "defined \u001b[32mobject\u001b[39m \u001b[36mTrafficLightColor\u001b[39m"
      ]
     },
     "execution_count": 23,
     "metadata": {},
     "output_type": "execute_result"
    }
   ],
   "source": [
    "object TrafficLightColor extends Enumeration {\n",
    " val Red, Yellow, Green = Value\n",
    "}"
   ]
  },
  {
   "cell_type": "markdown",
   "metadata": {},
   "source": [
    "Each call to the Value method returns a new instance of an inner class, also called\n",
    "Value.\n",
    "Alternatively, you can pass IDs, names, or both to the Value method:"
   ]
  },
  {
   "cell_type": "code",
   "execution_count": 28,
   "metadata": {},
   "outputs": [
    {
     "data": {
      "text/plain": [
       "defined \u001b[32mobject\u001b[39m \u001b[36mTrafficLightColor\u001b[39m"
      ]
     },
     "execution_count": 28,
     "metadata": {},
     "output_type": "execute_result"
    }
   ],
   "source": [
    "object TrafficLightColor extends Enumeration {\n",
    " val Red = Value(0, \"Stop\") \n",
    " val Yellow = Value(10) // Name \"Yellow\"\n",
    " val Green = Value(\"Go\") // ID 11\n",
    "}"
   ]
  },
  {
   "cell_type": "markdown",
   "metadata": {},
   "source": [
    "If not specifi ed, the ID is one more than the previously assigned one, starting\n",
    "with zero. The default name is the fi eld name.\n",
    "You can now refer to the enumeration values as TrafficLightColor.Red,\n",
    "TrafficLightColor.Yellow, and so on. If that gets too tedious, use"
   ]
  },
  {
   "cell_type": "code",
   "execution_count": 31,
   "metadata": {},
   "outputs": [
    {
     "data": {
      "text/plain": [
       "\u001b[32mimport \u001b[39m\u001b[36mTrafficLightColor._\u001b[39m"
      ]
     },
     "execution_count": 31,
     "metadata": {},
     "output_type": "execute_result"
    }
   ],
   "source": [
    "import TrafficLightColor._"
   ]
  },
  {
   "cell_type": "markdown",
   "metadata": {},
   "source": [
    "Remember that the type of the enumeration is TrafficLightColor.Value and not\n",
    "TrafficLightColor— that’ s the type of the object holding the values. Some people\n",
    "recommend that you add a type alias"
   ]
  },
  {
   "cell_type": "code",
   "execution_count": 1,
   "metadata": {},
   "outputs": [
    {
     "data": {
      "text/plain": [
       "defined \u001b[32mobject\u001b[39m \u001b[36mTrafficLightColor\u001b[39m"
      ]
     },
     "execution_count": 1,
     "metadata": {},
     "output_type": "execute_result"
    }
   ],
   "source": [
    "object TrafficLightColor extends Enumeration {\n",
    "type TrafficLightColor = Value\n",
    " val Red, Yellow, Green = Value\n",
    "}"
   ]
  },
  {
   "cell_type": "markdown",
   "metadata": {},
   "source": [
    "Now the type of the enumeration is TrafficLightColor.TrafficLightColor, which is\n",
    "only an improvement if you use an import statement. For example,\n"
   ]
  },
  {
   "cell_type": "code",
   "execution_count": 2,
   "metadata": {},
   "outputs": [
    {
     "data": {
      "text/plain": [
       "\u001b[32mimport \u001b[39m\u001b[36mTrafficLightColor._\n",
       "\u001b[39m\n",
       "defined \u001b[32mfunction\u001b[39m \u001b[36mdoWhat\u001b[39m"
      ]
     },
     "execution_count": 2,
     "metadata": {},
     "output_type": "execute_result"
    }
   ],
   "source": [
    "import TrafficLightColor._\n",
    "def doWhat(color: TrafficLightColor) = {\n",
    " if (color == Red) \"stop\" \n",
    " else if (color == Yellow) \"hurry up\" \n",
    " else \"go\"\n",
    "}"
   ]
  },
  {
   "cell_type": "markdown",
   "metadata": {},
   "source": [
    "The ID of an enumeration value is returned by the id method, and its name by the\n",
    "toString method.\n",
    "\n",
    "The call TrafficLightColor.values yields a set of all values:\n"
   ]
  },
  {
   "cell_type": "code",
   "execution_count": 3,
   "metadata": {},
   "outputs": [
    {
     "name": "stdout",
     "output_type": "stream",
     "text": [
      "0: Red\n",
      "1: Yellow\n",
      "2: Green\n"
     ]
    }
   ],
   "source": [
    "for (c <- TrafficLightColor.values) println(s\"${c.id}: $c\")"
   ]
  },
  {
   "cell_type": "markdown",
   "metadata": {},
   "source": [
    "Finally, you can look up an enumeration value by its ID or name. Both of the\n",
    "following yield the object TrafficLightColor.Red:"
   ]
  },
  {
   "cell_type": "code",
   "execution_count": 4,
   "metadata": {},
   "outputs": [
    {
     "data": {
      "text/plain": [
       "\u001b[36mres3_0\u001b[39m: \u001b[32mValue\u001b[39m = Red\n",
       "\u001b[36mres3_1\u001b[39m: \u001b[32mValue\u001b[39m = Red"
      ]
     },
     "execution_count": 4,
     "metadata": {},
     "output_type": "execute_result"
    }
   ],
   "source": [
    "TrafficLightColor(0) // Calls Enumeration.apply\n",
    "TrafficLightColor.withName(\"Red\")"
   ]
  },
  {
   "cell_type": "code",
   "execution_count": null,
   "metadata": {},
   "outputs": [],
   "source": []
  }
 ],
 "metadata": {
  "kernelspec": {
   "display_name": "Scala",
   "language": "scala",
   "name": "scala"
  },
  "language_info": {
   "codemirror_mode": "text/x-scala",
   "file_extension": ".scala",
   "mimetype": "text/x-scala",
   "name": "scala211",
   "nbconvert_exporter": "script",
   "pygments_lexer": "scala",
   "version": "2.11.11"
  }
 },
 "nbformat": 4,
 "nbformat_minor": 2
}
