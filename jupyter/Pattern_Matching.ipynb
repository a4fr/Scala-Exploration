{
 "cells": [
  {
   "cell_type": "markdown",
   "metadata": {},
   "source": [
    "# 14. Pattern Matching\n",
    "(from Scala Tutorials)"
   ]
  },
  {
   "cell_type": "markdown",
   "metadata": {},
   "source": [
    "## 1. Introduction"
   ]
  },
  {
   "cell_type": "markdown",
   "metadata": {},
   "source": [
    "Pattern matching is the second most widely used feature of Scala, after function values and closures. Scala\n",
    "provides great support for pattern matching for processing the messages.\n",
    "A pattern match includes a sequence of alternatives, each starting with the keyword case. Each alternative\n",
    "includes a pattern and one or more expressions, which will be evaluated if the pattern matches. An arrow symbol\n",
    "=> separates the pattern from the expressions. Here is a small example, which shows how to match against an\n",
    "integer value:"
   ]
  },
  {
   "cell_type": "code",
   "execution_count": 1,
   "metadata": {},
   "outputs": [
    {
     "data": {
      "text/plain": [
       "defined \u001b[32mfunction\u001b[39m \u001b[36mmatchTest\u001b[39m"
      ]
     },
     "execution_count": 1,
     "metadata": {},
     "output_type": "execute_result"
    }
   ],
   "source": [
    "def matchTest(x: Int): String = x match {\n",
    "case 1 => \"one\"\n",
    "case 2 => \"two\"\n",
    "case _ => \"many\"\n",
    "}"
   ]
  },
  {
   "cell_type": "code",
   "execution_count": 2,
   "metadata": {},
   "outputs": [
    {
     "name": "stdout",
     "output_type": "stream",
     "text": [
      "many\n"
     ]
    }
   ],
   "source": [
    "println(matchTest(3))"
   ]
  },
  {
   "cell_type": "markdown",
   "metadata": {},
   "source": [
    "The block with the case statements defines a function, which maps integers to strings. The match keyword\n",
    "provides a convenient way of applying a function (like the pattern matching function above) to an object. Following\n",
    "is a second example, which matches a value against patterns of different types:"
   ]
  },
  {
   "cell_type": "code",
   "execution_count": 4,
   "metadata": {},
   "outputs": [
    {
     "name": "stdout",
     "output_type": "stream",
     "text": [
      "2\n",
      "many\n",
      "one\n"
     ]
    },
    {
     "data": {
      "text/plain": [
       "defined \u001b[32mfunction\u001b[39m \u001b[36mmatchTest\u001b[39m"
      ]
     },
     "execution_count": 4,
     "metadata": {},
     "output_type": "execute_result"
    }
   ],
   "source": [
    "def matchTest(x: Any): Any = x match {\n",
    "case 1 => \"one\"\n",
    "case \"two\" => 2\n",
    "case y: Int => \"scala.Int\"\n",
    "case _ => \"many\"\n",
    "}\n",
    "\n",
    "println(matchTest(\"two\"))\n",
    "println(matchTest(\"test\"))\n",
    "println(matchTest(1))"
   ]
  },
  {
   "cell_type": "markdown",
   "metadata": {},
   "source": [
    "The first case matches if x refers to the integer value 1. The second case matches if x is equal to the string\"two\".\n",
    "The third case consists of a typed pattern; it matches against any integer and binds the selector value xto the\n",
    "variable y of type integer. Following is another form of writing same match...case expressions with the help of\n",
    "braces {...}:"
   ]
  },
  {
   "cell_type": "code",
   "execution_count": 6,
   "metadata": {},
   "outputs": [
    {
     "name": "stdout",
     "output_type": "stream",
     "text": [
      "()\n",
      "()\n",
      "()\n"
     ]
    },
    {
     "data": {
      "text/plain": [
       "defined \u001b[32mfunction\u001b[39m \u001b[36mmatchTest\u001b[39m"
      ]
     },
     "execution_count": 6,
     "metadata": {},
     "output_type": "execute_result"
    }
   ],
   "source": [
    "def matchTest(x: Any){\n",
    "x match {\n",
    "case 1 => \"one\"\n",
    "case \"two\" => 2\n",
    "case y: Int => \"scala.Int\"\n",
    "case _ => \"many\"\n",
    "}\n",
    "}\n",
    "\n",
    "println(matchTest(\"two\"))\n",
    "println(matchTest(\"test\"))\n",
    "println(matchTest(1))"
   ]
  },
  {
   "cell_type": "markdown",
   "metadata": {},
   "source": [
    "## 2. Matching Using case Classes:"
   ]
  },
  {
   "cell_type": "markdown",
   "metadata": {},
   "source": [
    "The case classes are special classes that are used in pattern matching with case expressions. Syntactically,\n",
    "these are standard classes with a special modifier: case. Following is a simple pattern matching example using\n",
    "case class:"
   ]
  },
  {
   "cell_type": "code",
   "execution_count": 7,
   "metadata": {},
   "outputs": [
    {
     "name": "stdout",
     "output_type": "stream",
     "text": [
      "Hi Alice!\n",
      "Hi Bob!\n",
      "Age: 32 year, name: Charlie?\n"
     ]
    },
    {
     "data": {
      "text/plain": [
       "\u001b[36malice\u001b[39m: \u001b[32mPerson\u001b[39m = \u001b[33mPerson\u001b[39m(\u001b[32m\"Alice\"\u001b[39m, \u001b[32m25\u001b[39m)\n",
       "\u001b[36mbob\u001b[39m: \u001b[32mPerson\u001b[39m = \u001b[33mPerson\u001b[39m(\u001b[32m\"Bob\"\u001b[39m, \u001b[32m32\u001b[39m)\n",
       "\u001b[36mcharlie\u001b[39m: \u001b[32mPerson\u001b[39m = \u001b[33mPerson\u001b[39m(\u001b[32m\"Charlie\"\u001b[39m, \u001b[32m32\u001b[39m)\n",
       "defined \u001b[32mclass\u001b[39m \u001b[36mPerson\u001b[39m"
      ]
     },
     "execution_count": 7,
     "metadata": {},
     "output_type": "execute_result"
    }
   ],
   "source": [
    "val alice = new Person(\"Alice\", 25)\n",
    "val bob = new Person(\"Bob\", 32)\n",
    "val charlie = new Person(\"Charlie\", 32)\n",
    "\n",
    "// case class, empty one.\n",
    "case class Person(name: String, age: Int)\n",
    "                  \n",
    "for (person <- List(alice, bob, charlie)) {\n",
    "person match {\n",
    "case Person(\"Alice\", 25) => println(\"Hi Alice!\")\n",
    "case Person(\"Bob\", 32) => println(\"Hi Bob!\")\n",
    "case Person(name, age) =>\n",
    "println(\"Age: \" + age + \" year, name: \" + name + \"?\")\n",
    "}\n",
    "}"
   ]
  },
  {
   "cell_type": "markdown",
   "metadata": {},
   "source": [
    "Adding the case keyword causes the compiler to add a number of useful features automatically. The keyword\n",
    "suggests an association with case expressions in pattern matching.\n",
    "First, the compiler automatically converts the constructor arguments into immutable fields (vals). The val keyword\n",
    "is optional. If you want mutable fields, use the var keyword. So, our constructor argument lists are now shorter.\n",
    "Second, the compiler automatically implements equals, hashCode, and toString methods to the class, which use\n",
    "the fields specified as constructor arguments. So, we no longer need our own toString methods.\n",
    "Finally, also, the body of Person class is gone because there are no methods that we need to define!"
   ]
  },
  {
   "cell_type": "code",
   "execution_count": null,
   "metadata": {},
   "outputs": [],
   "source": []
  }
 ],
 "metadata": {
  "kernelspec": {
   "display_name": "Scala",
   "language": "scala",
   "name": "scala"
  },
  "language_info": {
   "codemirror_mode": "text/x-scala",
   "file_extension": ".scala",
   "mimetype": "text/x-scala",
   "name": "scala211",
   "nbconvert_exporter": "script",
   "pygments_lexer": "scala",
   "version": "2.11.11"
  }
 },
 "nbformat": 4,
 "nbformat_minor": 2
}
